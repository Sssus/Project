{
  "nbformat": 4,
  "nbformat_minor": 0,
  "metadata": {
    "kernelspec": {
      "display_name": "Python 3",
      "language": "python",
      "name": "python3"
    },
    "language_info": {
      "codemirror_mode": {
        "name": "ipython",
        "version": 3
      },
      "file_extension": ".py",
      "mimetype": "text/x-python",
      "name": "python",
      "nbconvert_exporter": "python",
      "pygments_lexer": "ipython3",
      "version": "3.7.3"
    },
    "colab": {
      "name": "ver1_analyst.ipynb",
      "provenance": [],
      "collapsed_sections": []
    }
  },
  "cells": [
    {
      "cell_type": "code",
      "metadata": {
        "id": "50f94jZium_0",
        "colab_type": "code",
        "outputId": "025cdd1c-3152-4da3-d516-56d553f06857",
        "colab": {
          "base_uri": "https://localhost:8080/",
          "height": 105
        }
      },
      "source": [
        "import numpy as np\n",
        "import pandas as pd\n",
        "import string\n",
        "import missingno as msno\n",
        "import matplotlib.pyplot as plt\n",
        "import seaborn as sns\n",
        "import warnings\n",
        "warnings.filterwarnings('ignore')\n",
        "import re\n",
        "import nltk\n",
        "nltk.download('stopwords')\n",
        "stopword = nltk.corpus.stopwords.words('english')\n",
        "wn = nltk.WordNetLemmatizer()\n",
        "nltk.download('wordnet')"
      ],
      "execution_count": 1,
      "outputs": [
        {
          "output_type": "stream",
          "text": [
            "[nltk_data] Downloading package stopwords to /root/nltk_data...\n",
            "[nltk_data]   Unzipping corpora/stopwords.zip.\n",
            "[nltk_data] Downloading package wordnet to /root/nltk_data...\n",
            "[nltk_data]   Unzipping corpora/wordnet.zip.\n"
          ],
          "name": "stdout"
        },
        {
          "output_type": "execute_result",
          "data": {
            "text/plain": [
              "True"
            ]
          },
          "metadata": {
            "tags": []
          },
          "execution_count": 1
        }
      ]
    },
    {
      "cell_type": "code",
      "metadata": {
        "id": "RLeTJzEmvNDB",
        "colab_type": "code",
        "outputId": "bdc986b7-107c-425d-b3ec-409443d19a4f",
        "colab": {
          "base_uri": "https://localhost:8080/",
          "height": 125
        }
      },
      "source": [
        "from google.colab import drive\n",
        "drive.mount('/content/drive')"
      ],
      "execution_count": 2,
      "outputs": [
        {
          "output_type": "stream",
          "text": [
            "Go to this URL in a browser: https://accounts.google.com/o/oauth2/auth?client_id=947318989803-6bn6qk8qdgf4n4g3pfee6491hc0brc4i.apps.googleusercontent.com&redirect_uri=urn%3aietf%3awg%3aoauth%3a2.0%3aoob&response_type=code&scope=email%20https%3a%2f%2fwww.googleapis.com%2fauth%2fdocs.test%20https%3a%2f%2fwww.googleapis.com%2fauth%2fdrive%20https%3a%2f%2fwww.googleapis.com%2fauth%2fdrive.photos.readonly%20https%3a%2f%2fwww.googleapis.com%2fauth%2fpeopleapi.readonly\n",
            "\n",
            "Enter your authorization code:\n",
            "··········\n",
            "Mounted at /content/drive\n"
          ],
          "name": "stdout"
        }
      ]
    },
    {
      "cell_type": "code",
      "metadata": {
        "id": "0dYjduB8um_5",
        "colab_type": "code",
        "outputId": "d6a7f1a1-eb1f-433f-838f-508adf72c13e",
        "colab": {
          "base_uri": "https://localhost:8080/",
          "height": 652
        }
      },
      "source": [
        "df = pd.read_json('/content/drive/My Drive/Project/Smart Career/dataengineer.json',lines=True)\n",
        "df.head()"
      ],
      "execution_count": 3,
      "outputs": [
        {
          "output_type": "execute_result",
          "data": {
            "text/html": [
              "<div>\n",
              "<style scoped>\n",
              "    .dataframe tbody tr th:only-of-type {\n",
              "        vertical-align: middle;\n",
              "    }\n",
              "\n",
              "    .dataframe tbody tr th {\n",
              "        vertical-align: top;\n",
              "    }\n",
              "\n",
              "    .dataframe thead th {\n",
              "        text-align: right;\n",
              "    }\n",
              "</style>\n",
              "<table border=\"1\" class=\"dataframe\">\n",
              "  <thead>\n",
              "    <tr style=\"text-align: right;\">\n",
              "      <th></th>\n",
              "      <th>_id</th>\n",
              "      <th>ProfileID</th>\n",
              "      <th>Job Title</th>\n",
              "      <th>Location</th>\n",
              "      <th>Profile Summary</th>\n",
              "      <th>Experience</th>\n",
              "      <th>Education</th>\n",
              "      <th>Skills &amp; Endorsements</th>\n",
              "      <th>Industry Knowledge</th>\n",
              "      <th>Tools &amp; Technologies</th>\n",
              "      <th>Other Skills</th>\n",
              "      <th>Date Captured</th>\n",
              "      <th>Interpersonal Skills</th>\n",
              "      <th>Languages</th>\n",
              "    </tr>\n",
              "  </thead>\n",
              "  <tbody>\n",
              "    <tr>\n",
              "      <th>0</th>\n",
              "      <td>{'$oid': '5dca1376f68f858820733c99'}</td>\n",
              "      <td>jilliankim</td>\n",
              "      <td>Senior Data Engineer at Change Healthcare</td>\n",
              "      <td>San Francisco Bay Area</td>\n",
              "      <td>As a software engineer at an research and deve...</td>\n",
              "      <td>[{'Job Title': 'Senior Data Engineer', 'Compan...</td>\n",
              "      <td>[{'School': 'University of Washington', 'Degre...</td>\n",
              "      <td>[{'Skills': 'Apache Spark'}, {'Skills': 'Apach...</td>\n",
              "      <td>[{'Skills': 'Research'}, {'Skills': 'Data Anal...</td>\n",
              "      <td>[{'Skills': 'Java'}, {'Skills': 'HBase'}, {'Sk...</td>\n",
              "      <td>[{'Skills': 'Apache Pig'}, {'Skills': 'Apache ...</td>\n",
              "      <td>2019-11-12</td>\n",
              "      <td>NaN</td>\n",
              "      <td>NaN</td>\n",
              "    </tr>\n",
              "    <tr>\n",
              "      <th>1</th>\n",
              "      <td>{'$oid': '5dca1380f68f858820733c9b'}</td>\n",
              "      <td>hyunsikchoi</td>\n",
              "      <td>Sr. Principal Data Engineer at Coupang Global ...</td>\n",
              "      <td>San Francisco Bay Area</td>\n",
              "      <td>Specialties: * Query evaluation techniques in ...</td>\n",
              "      <td>[{'Job Title': 'Director of Research', 'Compan...</td>\n",
              "      <td>[{'School': 'Korea University', 'Degree': 'Doc...</td>\n",
              "      <td>[{'Skills': 'Hadoop'}, {'Skills': 'Distributed...</td>\n",
              "      <td>[{'Skills': 'Algorithms'}, {'Skills': 'Big Dat...</td>\n",
              "      <td>[{'Skills': 'Open Source'}, {'Skills': 'Java'}...</td>\n",
              "      <td>[{'Skills': 'Data Processing'}, {'Skills': 'La...</td>\n",
              "      <td>2019-11-12</td>\n",
              "      <td>NaN</td>\n",
              "      <td>NaN</td>\n",
              "    </tr>\n",
              "    <tr>\n",
              "      <th>2</th>\n",
              "      <td>{'$oid': '5dca13b2f68f858820733c9d'}</td>\n",
              "      <td>rui-deng-b7b37714a</td>\n",
              "      <td>Data Engineer at PlayStation</td>\n",
              "      <td>Los Angeles, California</td>\n",
              "      <td></td>\n",
              "      <td>[{'Job Title': 'Data Engineer', 'Company': 'Pl...</td>\n",
              "      <td>[{'School': 'University of Virginia', 'Degree'...</td>\n",
              "      <td>[{'Skills': 'Python (Programming Language)'}, ...</td>\n",
              "      <td>NaN</td>\n",
              "      <td>NaN</td>\n",
              "      <td>NaN</td>\n",
              "      <td>2019-11-12</td>\n",
              "      <td>NaN</td>\n",
              "      <td>NaN</td>\n",
              "    </tr>\n",
              "    <tr>\n",
              "      <th>3</th>\n",
              "      <td>{'$oid': '5dca13bff68f858820733c9f'}</td>\n",
              "      <td>seungjoonlee1984</td>\n",
              "      <td>Architect / Data engineer</td>\n",
              "      <td>Berkeley, California</td>\n",
              "      <td>Energetic and motivating, those are the two wo...</td>\n",
              "      <td>[{'Job Title': 'Senior Site Reliability Engine...</td>\n",
              "      <td>[{'School': 'University of California, Berkele...</td>\n",
              "      <td>[{'Skills': 'JavaScript'}, {'Skills': 'Python'...</td>\n",
              "      <td>[{'Skills': 'Web Applications'}, {'Skills': 'W...</td>\n",
              "      <td>[{'Skills': 'Java'}, {'Skills': 'JSON'}, {'Ski...</td>\n",
              "      <td>[{'Skills': 'Memcached'}, {'Skills': 'Google A...</td>\n",
              "      <td>2019-11-12</td>\n",
              "      <td>NaN</td>\n",
              "      <td>NaN</td>\n",
              "    </tr>\n",
              "    <tr>\n",
              "      <th>4</th>\n",
              "      <td>{'$oid': '5dca13caf68f858820733ca1'}</td>\n",
              "      <td>taeho-jeon-78418870</td>\n",
              "      <td>Data Scientist and ML Engineer</td>\n",
              "      <td>Greater Seattle Area</td>\n",
              "      <td>Machine learning engineer and data scientist w...</td>\n",
              "      <td>[{'Job Title': 'Data Scientist Student', 'Comp...</td>\n",
              "      <td>[{'School': 'Flatiron School', 'Degree': ' Dat...</td>\n",
              "      <td>[{'Skills': 'iOS development'}, {'Skills': 'Ja...</td>\n",
              "      <td>[{'Skills': 'Web Development'}, {'Skills': 'An...</td>\n",
              "      <td>[{'Skills': 'swift'}, {'Skills': 'Objective-C'...</td>\n",
              "      <td>[{'Skills': '����Ͼ�'}, {'Skills': 'C++ Languag...</td>\n",
              "      <td>2019-11-12</td>\n",
              "      <td>[{'Skills': 'Written Communication'}]</td>\n",
              "      <td>NaN</td>\n",
              "    </tr>\n",
              "  </tbody>\n",
              "</table>\n",
              "</div>"
            ],
            "text/plain": [
              "                                    _id  ... Languages\n",
              "0  {'$oid': '5dca1376f68f858820733c99'}  ...       NaN\n",
              "1  {'$oid': '5dca1380f68f858820733c9b'}  ...       NaN\n",
              "2  {'$oid': '5dca13b2f68f858820733c9d'}  ...       NaN\n",
              "3  {'$oid': '5dca13bff68f858820733c9f'}  ...       NaN\n",
              "4  {'$oid': '5dca13caf68f858820733ca1'}  ...       NaN\n",
              "\n",
              "[5 rows x 14 columns]"
            ]
          },
          "metadata": {
            "tags": []
          },
          "execution_count": 3
        }
      ]
    },
    {
      "cell_type": "code",
      "metadata": {
        "id": "zdsdHlJKum_7",
        "colab_type": "code",
        "colab": {}
      },
      "source": [
        "df = df.reset_index()"
      ],
      "execution_count": 0,
      "outputs": []
    },
    {
      "cell_type": "markdown",
      "metadata": {
        "id": "d1vvDQ3luu7a",
        "colab_type": "text"
      },
      "source": [
        "## Skill"
      ]
    },
    {
      "cell_type": "code",
      "metadata": {
        "id": "B6NXRNrcum_9",
        "colab_type": "code",
        "colab": {}
      },
      "source": [
        "## 복잡한 형태의 column을 일정한 형태로 맞춰주기위함\n",
        "def prep_edu(ro):\n",
        "    if ro ==[]:\n",
        "        ro = [{'School':'No School','Degree':'No Degree','Date Attend':'No attend'}]\n",
        "    else:\n",
        "        ro=ro\n",
        "    return ro\n",
        "\n",
        "def prep_exp(ro):\n",
        "    if ro==[]:\n",
        "        ro = [{'Job Title':'','Company':'','Period':'','Years':'','Location':'','Description':''}]\n",
        "    else:\n",
        "        ro = ro\n",
        "    return ro\n",
        "\n",
        "def prep_sk(ro):\n",
        "    if ro==[]:\n",
        "        ro=[{'Skills':''}]\n",
        "    else:\n",
        "        ro=ro\n",
        "    return ro\n",
        "    "
      ],
      "execution_count": 0,
      "outputs": []
    },
    {
      "cell_type": "code",
      "metadata": {
        "id": "EU1x2bCuum__",
        "colab_type": "code",
        "colab": {}
      },
      "source": [
        "## 바로 apply를 하면 nan은 float type이라서 len가 안먹힌다.\n",
        "## 각 column을 공통 type으로 맞춰주기 위해 nan값을 찾아 빈리스트로 대체\n",
        "def nan_to_list(num):\n",
        "    if num!=num:\n",
        "        return list()\n",
        "    else:\n",
        "        return num\n",
        "\n",
        "for i in df:\n",
        "    df[i] = df[i].apply(lambda x: nan_to_list(x))"
      ],
      "execution_count": 0,
      "outputs": []
    },
    {
      "cell_type": "code",
      "metadata": {
        "id": "HBPB3qnxunAB",
        "colab_type": "code",
        "colab": {}
      },
      "source": [
        "df['Skills & Endorsements'] = df['Skills & Endorsements'].apply(lambda x:prep_sk(x))\n",
        "df['Tools & Technologies'] = df['Tools & Technologies'].apply(lambda x:prep_sk(x))\n",
        "df['Interpersonal Skills']=df['Interpersonal Skills'].apply(lambda x:prep_sk(x))\n",
        "df['Other Skills'] = df['Other Skills'].apply(lambda x:prep_sk(x))\n",
        "df['Industry Knowledge'] = df['Industry Knowledge'].apply(lambda x:prep_sk(x))\n",
        "df['Experience'] = df['Experience'].apply(lambda x:prep_exp(x))\n",
        "df['Education'] = df['Education'].apply(lambda x:prep_edu(x))"
      ],
      "execution_count": 0,
      "outputs": []
    },
    {
      "cell_type": "code",
      "metadata": {
        "id": "-h6pv79LunAD",
        "colab_type": "code",
        "colab": {}
      },
      "source": [
        "## nlp에 필요한 function정의\n",
        "def remove_punct(text):\n",
        "    text_nopunct = \"\".join([char for char in text if char not in string.punctuation])\n",
        "    return text_nopunct\n",
        "def tokenize(text):\n",
        "    tokens = re.split('\\W+', text)\n",
        "    return tokens\n",
        "def remove_stopwords(tokenized_list):\n",
        "    text = [word for word in tokenized_list if word not in stopword]\n",
        "    return text\n",
        "def lemmatizing(tokenized_text):\n",
        "    text = [wn.lemmatize(word) for word in tokenized_text]\n",
        "    return text"
      ],
      "execution_count": 0,
      "outputs": []
    },
    {
      "cell_type": "code",
      "metadata": {
        "id": "R5fkJm-9unAF",
        "colab_type": "code",
        "colab": {}
      },
      "source": [
        "## skill들을 빼올수 있는 함수 생성\n",
        "def get_skill(sel):\n",
        "    skill_list = []\n",
        "    for i in range(len(sel)):\n",
        "        skill_list.append(sel[i]['Skills'])\n",
        "    return skill_list"
      ],
      "execution_count": 0,
      "outputs": []
    },
    {
      "cell_type": "code",
      "metadata": {
        "id": "t1axo8EqunAH",
        "colab_type": "code",
        "colab": {}
      },
      "source": [
        "## 각 skill column에서 모든 skill들 list를 구하는 함수\n",
        "def get_skill_list(ser):\n",
        "    ret = []\n",
        "    for idx in range(len(ser)):\n",
        "        for i,v in enumerate(ser.iloc[idx]):\n",
        "            ret.append(v)\n",
        "    return ret"
      ],
      "execution_count": 0,
      "outputs": []
    },
    {
      "cell_type": "code",
      "metadata": {
        "id": "ECin3SpZunAJ",
        "colab_type": "code",
        "outputId": "7dc24bd9-929c-4cdb-df64-df1176d96b44",
        "colab": {
          "base_uri": "https://localhost:8080/",
          "height": 669
        }
      },
      "source": [
        "for col in ['Skills & Endorsements','Tools & Technologies','Interpersonal Skills','Other Skills','Industry Knowledge']:\n",
        "    df[col] = df[col].apply(lambda x:get_skill(x))\n",
        "\n",
        "df.head()"
      ],
      "execution_count": 11,
      "outputs": [
        {
          "output_type": "execute_result",
          "data": {
            "text/html": [
              "<div>\n",
              "<style scoped>\n",
              "    .dataframe tbody tr th:only-of-type {\n",
              "        vertical-align: middle;\n",
              "    }\n",
              "\n",
              "    .dataframe tbody tr th {\n",
              "        vertical-align: top;\n",
              "    }\n",
              "\n",
              "    .dataframe thead th {\n",
              "        text-align: right;\n",
              "    }\n",
              "</style>\n",
              "<table border=\"1\" class=\"dataframe\">\n",
              "  <thead>\n",
              "    <tr style=\"text-align: right;\">\n",
              "      <th></th>\n",
              "      <th>index</th>\n",
              "      <th>_id</th>\n",
              "      <th>ProfileID</th>\n",
              "      <th>Job Title</th>\n",
              "      <th>Location</th>\n",
              "      <th>Profile Summary</th>\n",
              "      <th>Experience</th>\n",
              "      <th>Education</th>\n",
              "      <th>Skills &amp; Endorsements</th>\n",
              "      <th>Industry Knowledge</th>\n",
              "      <th>Tools &amp; Technologies</th>\n",
              "      <th>Other Skills</th>\n",
              "      <th>Date Captured</th>\n",
              "      <th>Interpersonal Skills</th>\n",
              "      <th>Languages</th>\n",
              "    </tr>\n",
              "  </thead>\n",
              "  <tbody>\n",
              "    <tr>\n",
              "      <th>0</th>\n",
              "      <td>0</td>\n",
              "      <td>{'$oid': '5dca1376f68f858820733c99'}</td>\n",
              "      <td>jilliankim</td>\n",
              "      <td>Senior Data Engineer at Change Healthcare</td>\n",
              "      <td>San Francisco Bay Area</td>\n",
              "      <td>As a software engineer at an research and deve...</td>\n",
              "      <td>[{'Job Title': 'Senior Data Engineer', 'Compan...</td>\n",
              "      <td>[{'School': 'University of Washington', 'Degre...</td>\n",
              "      <td>[Apache Spark, Apache Hadoop, Scala]</td>\n",
              "      <td>[Research, Data Analysis, Web Development, Tes...</td>\n",
              "      <td>[Java, HBase, C, C++, CSS, JavaScript, Matlab,...</td>\n",
              "      <td>[Apache Pig, Apache Hive, Cassandra, Hive, Apa...</td>\n",
              "      <td>2019-11-12</td>\n",
              "      <td>[]</td>\n",
              "      <td>[]</td>\n",
              "    </tr>\n",
              "    <tr>\n",
              "      <th>1</th>\n",
              "      <td>1</td>\n",
              "      <td>{'$oid': '5dca1380f68f858820733c9b'}</td>\n",
              "      <td>hyunsikchoi</td>\n",
              "      <td>Sr. Principal Data Engineer at Coupang Global ...</td>\n",
              "      <td>San Francisco Bay Area</td>\n",
              "      <td>Specialties: * Query evaluation techniques in ...</td>\n",
              "      <td>[{'Job Title': 'Director of Research', 'Compan...</td>\n",
              "      <td>[{'School': 'Korea University', 'Degree': 'Doc...</td>\n",
              "      <td>[Hadoop, Distributed Systems, MapReduce]</td>\n",
              "      <td>[Algorithms, Big Data, Software Development, C...</td>\n",
              "      <td>[Open Source, Java, Linux, C++, REST, Rust, SQL]</td>\n",
              "      <td>[Data Processing, Large Scale Systems, ANTLR, ...</td>\n",
              "      <td>2019-11-12</td>\n",
              "      <td>[]</td>\n",
              "      <td>[]</td>\n",
              "    </tr>\n",
              "    <tr>\n",
              "      <th>2</th>\n",
              "      <td>2</td>\n",
              "      <td>{'$oid': '5dca13b2f68f858820733c9d'}</td>\n",
              "      <td>rui-deng-b7b37714a</td>\n",
              "      <td>Data Engineer at PlayStation</td>\n",
              "      <td>Los Angeles, California</td>\n",
              "      <td></td>\n",
              "      <td>[{'Job Title': 'Data Engineer', 'Company': 'Pl...</td>\n",
              "      <td>[{'School': 'University of Virginia', 'Degree'...</td>\n",
              "      <td>[Python (Programming Language), PL/SQL, Apache...</td>\n",
              "      <td>[]</td>\n",
              "      <td>[]</td>\n",
              "      <td>[]</td>\n",
              "      <td>2019-11-12</td>\n",
              "      <td>[]</td>\n",
              "      <td>[]</td>\n",
              "    </tr>\n",
              "    <tr>\n",
              "      <th>3</th>\n",
              "      <td>3</td>\n",
              "      <td>{'$oid': '5dca13bff68f858820733c9f'}</td>\n",
              "      <td>seungjoonlee1984</td>\n",
              "      <td>Architect / Data engineer</td>\n",
              "      <td>Berkeley, California</td>\n",
              "      <td>Energetic and motivating, those are the two wo...</td>\n",
              "      <td>[{'Job Title': 'Senior Site Reliability Engine...</td>\n",
              "      <td>[{'School': 'University of California, Berkele...</td>\n",
              "      <td>[JavaScript, Python, REST]</td>\n",
              "      <td>[Web Applications, Web Development, Agile Meth...</td>\n",
              "      <td>[Java, JSON, jQuery, CSS, PHP, Hadoop, MongoDB...</td>\n",
              "      <td>[Memcached, Google API, Amazon EC2, DOM, Smart...</td>\n",
              "      <td>2019-11-12</td>\n",
              "      <td>[]</td>\n",
              "      <td>[]</td>\n",
              "    </tr>\n",
              "    <tr>\n",
              "      <th>4</th>\n",
              "      <td>4</td>\n",
              "      <td>{'$oid': '5dca13caf68f858820733ca1'}</td>\n",
              "      <td>taeho-jeon-78418870</td>\n",
              "      <td>Data Scientist and ML Engineer</td>\n",
              "      <td>Greater Seattle Area</td>\n",
              "      <td>Machine learning engineer and data scientist w...</td>\n",
              "      <td>[{'Job Title': 'Data Scientist Student', 'Comp...</td>\n",
              "      <td>[{'School': 'Flatiron School', 'Degree': ' Dat...</td>\n",
              "      <td>[iOS development, Java Application Development...</td>\n",
              "      <td>[Web Development, Android Development, Digital...</td>\n",
              "      <td>[swift, Objective-C, Angular, JAVA, SQL, iOS, ...</td>\n",
              "      <td>[����Ͼ�, C++ Language, ������ ������, ������ �...</td>\n",
              "      <td>2019-11-12</td>\n",
              "      <td>[Written Communication]</td>\n",
              "      <td>[]</td>\n",
              "    </tr>\n",
              "  </tbody>\n",
              "</table>\n",
              "</div>"
            ],
            "text/plain": [
              "   index  ... Languages\n",
              "0      0  ...        []\n",
              "1      1  ...        []\n",
              "2      2  ...        []\n",
              "3      3  ...        []\n",
              "4      4  ...        []\n",
              "\n",
              "[5 rows x 15 columns]"
            ]
          },
          "metadata": {
            "tags": []
          },
          "execution_count": 11
        }
      ]
    },
    {
      "cell_type": "code",
      "metadata": {
        "id": "URg_9WIounAL",
        "colab_type": "code",
        "colab": {}
      },
      "source": [
        "skill_list1 = get_skill_list(df['Skills & Endorsements'])\n",
        "skill_list2 = get_skill_list(df['Tools & Technologies'])\n",
        "skill_list3 = get_skill_list(df['Interpersonal Skills'])\n",
        "skill_list4 = get_skill_list(df['Other Skills'])\n",
        "skill_list5 = get_skill_list(df['Industry Knowledge'])"
      ],
      "execution_count": 0,
      "outputs": []
    },
    {
      "cell_type": "code",
      "metadata": {
        "id": "brVxtWxM1DJ_",
        "colab_type": "code",
        "colab": {}
      },
      "source": [
        "skill_list1"
      ],
      "execution_count": 0,
      "outputs": []
    },
    {
      "cell_type": "code",
      "metadata": {
        "id": "wOAmzYho0Piy",
        "colab_type": "code",
        "colab": {}
      },
      "source": [
        "sk_li1 = [];sk_li2 = [];sk_li3 = [];sk_li4 = [];sk_li5 = []\n",
        "\n",
        "for i in range(len(skill_list1)):\n",
        "    if skill_list1[i]!='':\n",
        "        sk_li1.append(skill_list1[i])\n",
        "for i in range(len(skill_list2)):\n",
        "    if skill_list2[i]!='':\n",
        "        sk_li2.append(skill_list2[i])\n",
        "for i in range(len(skill_list3)):\n",
        "    if skill_list3[i]!='':\n",
        "        sk_li3.append(skill_list3[i])\n",
        "for i in range(len(skill_list4)):\n",
        "    if skill_list4[i]!='':\n",
        "        sk_li4.append(skill_list4[i])\n",
        "for i in range(len(skill_list5)):\n",
        "    if skill_list5[i]!='':\n",
        "        sk_li5.append(skill_list5[i])    \n",
        "\n",
        "\n"
      ],
      "execution_count": 0,
      "outputs": []
    },
    {
      "cell_type": "code",
      "metadata": {
        "id": "b79ngB4y2_1n",
        "colab_type": "code",
        "colab": {}
      },
      "source": [
        "col1 = pd.Series(sk_li1).value_counts().iloc[:10].index.tolist()\n",
        "col2 = pd.Series(sk_li2).value_counts().iloc[:10].index.tolist()\n",
        "col3 = pd.Series(sk_li3).value_counts().iloc[:10].index.tolist()\n",
        "col4 = pd.Series(sk_li4).value_counts().iloc[:10].index.tolist()\n",
        "col5 = pd.Series(sk_li5).value_counts().iloc[:10].index.tolist()"
      ],
      "execution_count": 0,
      "outputs": []
    },
    {
      "cell_type": "code",
      "metadata": {
        "id": "EEqjl_-B4bXJ",
        "colab_type": "code",
        "colab": {}
      },
      "source": [
        "col_new = col1.copy()"
      ],
      "execution_count": 0,
      "outputs": []
    },
    {
      "cell_type": "code",
      "metadata": {
        "id": "ATml9EOh3SqJ",
        "colab_type": "code",
        "colab": {}
      },
      "source": [
        "col_new.extend(col5)"
      ],
      "execution_count": 0,
      "outputs": []
    },
    {
      "cell_type": "code",
      "metadata": {
        "id": "6ATDlotP4frz",
        "colab_type": "code",
        "colab": {}
      },
      "source": [
        "col_new = list(set(col_new))"
      ],
      "execution_count": 0,
      "outputs": []
    },
    {
      "cell_type": "code",
      "metadata": {
        "id": "e_FyhyeL4yVj",
        "colab_type": "code",
        "outputId": "f553f234-18c5-4a84-f4be-c8d73b8e1671",
        "colab": {
          "base_uri": "https://localhost:8080/",
          "height": 737
        }
      },
      "source": [
        "col_new"
      ],
      "execution_count": 0,
      "outputs": [
        {
          "output_type": "execute_result",
          "data": {
            "text/plain": [
              "['Marketing Strategy',\n",
              " 'Hospitality',\n",
              " 'Data Analysis',\n",
              " 'PowerPoint',\n",
              " 'Microsoft Word',\n",
              " 'Microsoft Excel',\n",
              " 'Data Analytics',\n",
              " 'Social Media',\n",
              " 'Time Management',\n",
              " 'Management',\n",
              " 'Leadership',\n",
              " 'Team Building',\n",
              " 'Python',\n",
              " 'Sales',\n",
              " 'Research',\n",
              " 'Process Improvement',\n",
              " 'Networking',\n",
              " 'Event Planning',\n",
              " 'Customer Service',\n",
              " 'Tableau',\n",
              " 'Communication',\n",
              " 'Social Media Marketing',\n",
              " 'R',\n",
              " 'Korean',\n",
              " 'Public Speaking',\n",
              " 'Microsoft PowerPoint',\n",
              " 'Google Analytics',\n",
              " 'Team Leadership',\n",
              " 'SQL',\n",
              " 'Marketing Analytics',\n",
              " 'Market Research',\n",
              " 'Microsoft Office',\n",
              " 'Marketing Research',\n",
              " 'Hotels',\n",
              " 'Data Science',\n",
              " 'Project Management',\n",
              " 'Marketing',\n",
              " 'Social Networking',\n",
              " 'Fundraising',\n",
              " 'Teamwork']"
            ]
          },
          "metadata": {
            "tags": []
          },
          "execution_count": 82
        }
      ]
    },
    {
      "cell_type": "code",
      "metadata": {
        "id": "DSre9r163o1O",
        "colab_type": "code",
        "colab": {}
      },
      "source": [
        "for col in col_new:\n",
        "    df_sk[col] = 'None'"
      ],
      "execution_count": 0,
      "outputs": []
    },
    {
      "cell_type": "code",
      "metadata": {
        "id": "84g-Vsd1-9w7",
        "colab_type": "code",
        "outputId": "7115d784-3e07-4892-b48d-512df70d6b7b",
        "colab": {
          "base_uri": "https://localhost:8080/",
          "height": 107
        }
      },
      "source": [
        "col_sk"
      ],
      "execution_count": 0,
      "outputs": [
        {
          "output_type": "execute_result",
          "data": {
            "text/plain": [
              "['Skills & Endorsements',\n",
              " 'Tools & Technologies',\n",
              " 'Other Skills',\n",
              " 'Interpersonal Skills',\n",
              " 'Industry Knowledge']"
            ]
          },
          "metadata": {
            "tags": []
          },
          "execution_count": 97
        }
      ]
    },
    {
      "cell_type": "code",
      "metadata": {
        "id": "QyA6rUv--5o3",
        "colab_type": "code",
        "colab": {}
      },
      "source": [
        "for idx in range(len(df_sk)):\n",
        "    for se in col_new:\n",
        "        for col in col_sk:\n",
        "            for i in range(len(df_sk.iloc[idx][col])):\n",
        "                if df_sk.iloc[idx][col][i]==se:\n",
        "                    df_sk[se].iloc[idx]=1"
      ],
      "execution_count": 0,
      "outputs": []
    },
    {
      "cell_type": "code",
      "metadata": {
        "id": "lLTmcSLmJF8A",
        "colab_type": "code",
        "colab": {}
      },
      "source": [
        "for idx in range(len(df_sk)):\n",
        "    for col in col_new:\n",
        "        if df_sk[col].iloc[idx]=='None':\n",
        "            df_sk[col].iloc[idx]=0"
      ],
      "execution_count": 0,
      "outputs": []
    },
    {
      "cell_type": "code",
      "metadata": {
        "id": "hk1qKSP9JqvX",
        "colab_type": "code",
        "colab": {}
      },
      "source": [
        "df.columns\n",
        "df_new = df[['Job Title','ID','Years','School','Degree','State','City','Major']]"
      ],
      "execution_count": 0,
      "outputs": []
    },
    {
      "cell_type": "code",
      "metadata": {
        "id": "a46LaMo3KbWJ",
        "colab_type": "code",
        "colab": {}
      },
      "source": [
        "for col in col_new:\n",
        "    df_new[col] = df_sk[col]"
      ],
      "execution_count": 0,
      "outputs": []
    },
    {
      "cell_type": "code",
      "metadata": {
        "id": "ZwA-fcjUK3z0",
        "colab_type": "code",
        "outputId": "46b285c2-9f66-4c0c-8724-ab8bef286932",
        "colab": {
          "base_uri": "https://localhost:8080/",
          "height": 1000
        }
      },
      "source": [
        "df_new"
      ],
      "execution_count": 0,
      "outputs": [
        {
          "output_type": "execute_result",
          "data": {
            "text/html": [
              "<div>\n",
              "<style scoped>\n",
              "    .dataframe tbody tr th:only-of-type {\n",
              "        vertical-align: middle;\n",
              "    }\n",
              "\n",
              "    .dataframe tbody tr th {\n",
              "        vertical-align: top;\n",
              "    }\n",
              "\n",
              "    .dataframe thead th {\n",
              "        text-align: right;\n",
              "    }\n",
              "</style>\n",
              "<table border=\"1\" class=\"dataframe\">\n",
              "  <thead>\n",
              "    <tr style=\"text-align: right;\">\n",
              "      <th></th>\n",
              "      <th>Job Title</th>\n",
              "      <th>ID</th>\n",
              "      <th>Years</th>\n",
              "      <th>School</th>\n",
              "      <th>Degree</th>\n",
              "      <th>State</th>\n",
              "      <th>City</th>\n",
              "      <th>Major</th>\n",
              "      <th>Marketing Strategy</th>\n",
              "      <th>Hospitality</th>\n",
              "      <th>Data Analysis</th>\n",
              "      <th>PowerPoint</th>\n",
              "      <th>Microsoft Word</th>\n",
              "      <th>Microsoft Excel</th>\n",
              "      <th>Data Analytics</th>\n",
              "      <th>Social Media</th>\n",
              "      <th>Time Management</th>\n",
              "      <th>Management</th>\n",
              "      <th>Leadership</th>\n",
              "      <th>Team Building</th>\n",
              "      <th>Python</th>\n",
              "      <th>Sales</th>\n",
              "      <th>Research</th>\n",
              "      <th>Process Improvement</th>\n",
              "      <th>Networking</th>\n",
              "      <th>Event Planning</th>\n",
              "      <th>Customer Service</th>\n",
              "      <th>Tableau</th>\n",
              "      <th>Communication</th>\n",
              "      <th>Social Media Marketing</th>\n",
              "      <th>R</th>\n",
              "      <th>Korean</th>\n",
              "      <th>Public Speaking</th>\n",
              "      <th>Microsoft PowerPoint</th>\n",
              "      <th>Google Analytics</th>\n",
              "      <th>Team Leadership</th>\n",
              "      <th>SQL</th>\n",
              "      <th>Marketing Analytics</th>\n",
              "      <th>Market Research</th>\n",
              "      <th>Microsoft Office</th>\n",
              "      <th>Marketing Research</th>\n",
              "      <th>Hotels</th>\n",
              "      <th>Data Science</th>\n",
              "      <th>Project Management</th>\n",
              "      <th>Marketing</th>\n",
              "      <th>Social Networking</th>\n",
              "      <th>Fundraising</th>\n",
              "      <th>Teamwork</th>\n",
              "    </tr>\n",
              "  </thead>\n",
              "  <tbody>\n",
              "    <tr>\n",
              "      <th>0</th>\n",
              "      <td>Data Analyst</td>\n",
              "      <td>0</td>\n",
              "      <td>4</td>\n",
              "      <td>University of California, Irvine Division of C...</td>\n",
              "      <td>ETC</td>\n",
              "      <td>California</td>\n",
              "      <td>None</td>\n",
              "      <td>Certificate of Data Analytics Management Infor...</td>\n",
              "      <td>1</td>\n",
              "      <td>0</td>\n",
              "      <td>1</td>\n",
              "      <td>1</td>\n",
              "      <td>1</td>\n",
              "      <td>1</td>\n",
              "      <td>0</td>\n",
              "      <td>1</td>\n",
              "      <td>0</td>\n",
              "      <td>1</td>\n",
              "      <td>0</td>\n",
              "      <td>0</td>\n",
              "      <td>1</td>\n",
              "      <td>0</td>\n",
              "      <td>1</td>\n",
              "      <td>0</td>\n",
              "      <td>0</td>\n",
              "      <td>0</td>\n",
              "      <td>1</td>\n",
              "      <td>1</td>\n",
              "      <td>0</td>\n",
              "      <td>1</td>\n",
              "      <td>0</td>\n",
              "      <td>0</td>\n",
              "      <td>0</td>\n",
              "      <td>0</td>\n",
              "      <td>1</td>\n",
              "      <td>0</td>\n",
              "      <td>1</td>\n",
              "      <td>0</td>\n",
              "      <td>0</td>\n",
              "      <td>1</td>\n",
              "      <td>0</td>\n",
              "      <td>0</td>\n",
              "      <td>0</td>\n",
              "      <td>0</td>\n",
              "      <td>1</td>\n",
              "      <td>0</td>\n",
              "      <td>0</td>\n",
              "      <td>0</td>\n",
              "    </tr>\n",
              "    <tr>\n",
              "      <th>1</th>\n",
              "      <td>Analyst at Gerson Lehrman Group</td>\n",
              "      <td>1</td>\n",
              "      <td>3</td>\n",
              "      <td>University of Surrey</td>\n",
              "      <td>Bachelor</td>\n",
              "      <td>None</td>\n",
              "      <td>None</td>\n",
              "      <td>Bachelor of Science - BS Field Of Study</td>\n",
              "      <td>0</td>\n",
              "      <td>0</td>\n",
              "      <td>0</td>\n",
              "      <td>0</td>\n",
              "      <td>0</td>\n",
              "      <td>0</td>\n",
              "      <td>0</td>\n",
              "      <td>0</td>\n",
              "      <td>0</td>\n",
              "      <td>0</td>\n",
              "      <td>0</td>\n",
              "      <td>0</td>\n",
              "      <td>0</td>\n",
              "      <td>0</td>\n",
              "      <td>0</td>\n",
              "      <td>0</td>\n",
              "      <td>0</td>\n",
              "      <td>0</td>\n",
              "      <td>0</td>\n",
              "      <td>0</td>\n",
              "      <td>0</td>\n",
              "      <td>0</td>\n",
              "      <td>0</td>\n",
              "      <td>0</td>\n",
              "      <td>0</td>\n",
              "      <td>0</td>\n",
              "      <td>0</td>\n",
              "      <td>0</td>\n",
              "      <td>0</td>\n",
              "      <td>0</td>\n",
              "      <td>0</td>\n",
              "      <td>0</td>\n",
              "      <td>0</td>\n",
              "      <td>0</td>\n",
              "      <td>0</td>\n",
              "      <td>0</td>\n",
              "      <td>0</td>\n",
              "      <td>0</td>\n",
              "      <td>0</td>\n",
              "      <td>0</td>\n",
              "    </tr>\n",
              "    <tr>\n",
              "      <th>2</th>\n",
              "      <td>Regional Analyst, Google</td>\n",
              "      <td>2</td>\n",
              "      <td>9</td>\n",
              "      <td>University of California, Los Angeles</td>\n",
              "      <td>ETC</td>\n",
              "      <td>New York</td>\n",
              "      <td>New York</td>\n",
              "      <td>East Asian Studies</td>\n",
              "      <td>0</td>\n",
              "      <td>0</td>\n",
              "      <td>0</td>\n",
              "      <td>0</td>\n",
              "      <td>0</td>\n",
              "      <td>0</td>\n",
              "      <td>0</td>\n",
              "      <td>0</td>\n",
              "      <td>0</td>\n",
              "      <td>0</td>\n",
              "      <td>0</td>\n",
              "      <td>0</td>\n",
              "      <td>0</td>\n",
              "      <td>0</td>\n",
              "      <td>0</td>\n",
              "      <td>0</td>\n",
              "      <td>0</td>\n",
              "      <td>0</td>\n",
              "      <td>0</td>\n",
              "      <td>0</td>\n",
              "      <td>0</td>\n",
              "      <td>0</td>\n",
              "      <td>0</td>\n",
              "      <td>0</td>\n",
              "      <td>0</td>\n",
              "      <td>0</td>\n",
              "      <td>0</td>\n",
              "      <td>0</td>\n",
              "      <td>0</td>\n",
              "      <td>0</td>\n",
              "      <td>0</td>\n",
              "      <td>0</td>\n",
              "      <td>1</td>\n",
              "      <td>0</td>\n",
              "      <td>0</td>\n",
              "      <td>1</td>\n",
              "      <td>0</td>\n",
              "      <td>0</td>\n",
              "      <td>0</td>\n",
              "      <td>0</td>\n",
              "    </tr>\n",
              "    <tr>\n",
              "      <th>3</th>\n",
              "      <td>Strategy Analyst at Accenture</td>\n",
              "      <td>3</td>\n",
              "      <td>8</td>\n",
              "      <td>University of California, Berkeley</td>\n",
              "      <td>Not Specification</td>\n",
              "      <td>California</td>\n",
              "      <td>None</td>\n",
              "      <td></td>\n",
              "      <td>0</td>\n",
              "      <td>0</td>\n",
              "      <td>1</td>\n",
              "      <td>1</td>\n",
              "      <td>1</td>\n",
              "      <td>1</td>\n",
              "      <td>0</td>\n",
              "      <td>1</td>\n",
              "      <td>0</td>\n",
              "      <td>1</td>\n",
              "      <td>1</td>\n",
              "      <td>0</td>\n",
              "      <td>0</td>\n",
              "      <td>0</td>\n",
              "      <td>1</td>\n",
              "      <td>0</td>\n",
              "      <td>0</td>\n",
              "      <td>1</td>\n",
              "      <td>1</td>\n",
              "      <td>0</td>\n",
              "      <td>0</td>\n",
              "      <td>0</td>\n",
              "      <td>0</td>\n",
              "      <td>0</td>\n",
              "      <td>1</td>\n",
              "      <td>1</td>\n",
              "      <td>0</td>\n",
              "      <td>0</td>\n",
              "      <td>0</td>\n",
              "      <td>0</td>\n",
              "      <td>0</td>\n",
              "      <td>1</td>\n",
              "      <td>0</td>\n",
              "      <td>0</td>\n",
              "      <td>0</td>\n",
              "      <td>0</td>\n",
              "      <td>0</td>\n",
              "      <td>0</td>\n",
              "      <td>0</td>\n",
              "      <td>0</td>\n",
              "    </tr>\n",
              "    <tr>\n",
              "      <th>4</th>\n",
              "      <td>Data Analyst at Microsoft</td>\n",
              "      <td>4</td>\n",
              "      <td>3</td>\n",
              "      <td>University of Pittsburgh College of Business A...</td>\n",
              "      <td>Bachelor</td>\n",
              "      <td>Pennsylvania</td>\n",
              "      <td>Pittsburgh</td>\n",
              "      <td>Bachelor of Business Administration - BBA Mark...</td>\n",
              "      <td>0</td>\n",
              "      <td>0</td>\n",
              "      <td>0</td>\n",
              "      <td>0</td>\n",
              "      <td>0</td>\n",
              "      <td>0</td>\n",
              "      <td>0</td>\n",
              "      <td>1</td>\n",
              "      <td>0</td>\n",
              "      <td>0</td>\n",
              "      <td>1</td>\n",
              "      <td>0</td>\n",
              "      <td>0</td>\n",
              "      <td>0</td>\n",
              "      <td>0</td>\n",
              "      <td>0</td>\n",
              "      <td>0</td>\n",
              "      <td>0</td>\n",
              "      <td>0</td>\n",
              "      <td>0</td>\n",
              "      <td>1</td>\n",
              "      <td>1</td>\n",
              "      <td>0</td>\n",
              "      <td>0</td>\n",
              "      <td>1</td>\n",
              "      <td>0</td>\n",
              "      <td>0</td>\n",
              "      <td>0</td>\n",
              "      <td>0</td>\n",
              "      <td>0</td>\n",
              "      <td>0</td>\n",
              "      <td>1</td>\n",
              "      <td>0</td>\n",
              "      <td>0</td>\n",
              "      <td>0</td>\n",
              "      <td>1</td>\n",
              "      <td>0</td>\n",
              "      <td>0</td>\n",
              "      <td>0</td>\n",
              "      <td>0</td>\n",
              "    </tr>\n",
              "    <tr>\n",
              "      <th>...</th>\n",
              "      <td>...</td>\n",
              "      <td>...</td>\n",
              "      <td>...</td>\n",
              "      <td>...</td>\n",
              "      <td>...</td>\n",
              "      <td>...</td>\n",
              "      <td>...</td>\n",
              "      <td>...</td>\n",
              "      <td>...</td>\n",
              "      <td>...</td>\n",
              "      <td>...</td>\n",
              "      <td>...</td>\n",
              "      <td>...</td>\n",
              "      <td>...</td>\n",
              "      <td>...</td>\n",
              "      <td>...</td>\n",
              "      <td>...</td>\n",
              "      <td>...</td>\n",
              "      <td>...</td>\n",
              "      <td>...</td>\n",
              "      <td>...</td>\n",
              "      <td>...</td>\n",
              "      <td>...</td>\n",
              "      <td>...</td>\n",
              "      <td>...</td>\n",
              "      <td>...</td>\n",
              "      <td>...</td>\n",
              "      <td>...</td>\n",
              "      <td>...</td>\n",
              "      <td>...</td>\n",
              "      <td>...</td>\n",
              "      <td>...</td>\n",
              "      <td>...</td>\n",
              "      <td>...</td>\n",
              "      <td>...</td>\n",
              "      <td>...</td>\n",
              "      <td>...</td>\n",
              "      <td>...</td>\n",
              "      <td>...</td>\n",
              "      <td>...</td>\n",
              "      <td>...</td>\n",
              "      <td>...</td>\n",
              "      <td>...</td>\n",
              "      <td>...</td>\n",
              "      <td>...</td>\n",
              "      <td>...</td>\n",
              "      <td>...</td>\n",
              "      <td>...</td>\n",
              "    </tr>\n",
              "    <tr>\n",
              "      <th>1885</th>\n",
              "      <td>Talent Analyst at Vaco</td>\n",
              "      <td>1885</td>\n",
              "      <td>0</td>\n",
              "      <td>No School</td>\n",
              "      <td>Not Specification</td>\n",
              "      <td>California</td>\n",
              "      <td>None</td>\n",
              "      <td>No Degree</td>\n",
              "      <td>0</td>\n",
              "      <td>0</td>\n",
              "      <td>0</td>\n",
              "      <td>0</td>\n",
              "      <td>0</td>\n",
              "      <td>0</td>\n",
              "      <td>0</td>\n",
              "      <td>0</td>\n",
              "      <td>0</td>\n",
              "      <td>0</td>\n",
              "      <td>0</td>\n",
              "      <td>0</td>\n",
              "      <td>0</td>\n",
              "      <td>0</td>\n",
              "      <td>0</td>\n",
              "      <td>0</td>\n",
              "      <td>0</td>\n",
              "      <td>0</td>\n",
              "      <td>0</td>\n",
              "      <td>0</td>\n",
              "      <td>0</td>\n",
              "      <td>0</td>\n",
              "      <td>0</td>\n",
              "      <td>0</td>\n",
              "      <td>0</td>\n",
              "      <td>0</td>\n",
              "      <td>0</td>\n",
              "      <td>0</td>\n",
              "      <td>0</td>\n",
              "      <td>0</td>\n",
              "      <td>0</td>\n",
              "      <td>0</td>\n",
              "      <td>0</td>\n",
              "      <td>0</td>\n",
              "      <td>0</td>\n",
              "      <td>0</td>\n",
              "      <td>0</td>\n",
              "      <td>0</td>\n",
              "      <td>0</td>\n",
              "      <td>0</td>\n",
              "    </tr>\n",
              "    <tr>\n",
              "      <th>1886</th>\n",
              "      <td>Data Science at Caesars Entertainment Corporation</td>\n",
              "      <td>1886</td>\n",
              "      <td>0</td>\n",
              "      <td>No School</td>\n",
              "      <td>Not Specification</td>\n",
              "      <td>Nevada</td>\n",
              "      <td>Las Vegas</td>\n",
              "      <td>No Degree</td>\n",
              "      <td>0</td>\n",
              "      <td>0</td>\n",
              "      <td>0</td>\n",
              "      <td>0</td>\n",
              "      <td>0</td>\n",
              "      <td>0</td>\n",
              "      <td>0</td>\n",
              "      <td>0</td>\n",
              "      <td>0</td>\n",
              "      <td>0</td>\n",
              "      <td>0</td>\n",
              "      <td>0</td>\n",
              "      <td>0</td>\n",
              "      <td>0</td>\n",
              "      <td>0</td>\n",
              "      <td>0</td>\n",
              "      <td>0</td>\n",
              "      <td>0</td>\n",
              "      <td>0</td>\n",
              "      <td>0</td>\n",
              "      <td>0</td>\n",
              "      <td>0</td>\n",
              "      <td>0</td>\n",
              "      <td>0</td>\n",
              "      <td>0</td>\n",
              "      <td>0</td>\n",
              "      <td>0</td>\n",
              "      <td>0</td>\n",
              "      <td>0</td>\n",
              "      <td>0</td>\n",
              "      <td>0</td>\n",
              "      <td>0</td>\n",
              "      <td>0</td>\n",
              "      <td>0</td>\n",
              "      <td>0</td>\n",
              "      <td>0</td>\n",
              "      <td>0</td>\n",
              "      <td>0</td>\n",
              "      <td>0</td>\n",
              "      <td>0</td>\n",
              "    </tr>\n",
              "    <tr>\n",
              "      <th>1887</th>\n",
              "      <td>Marketing Manager at The Mansion at Glen Cove</td>\n",
              "      <td>1887</td>\n",
              "      <td>6</td>\n",
              "      <td>The Johns Hopkins University - Carey Business ...</td>\n",
              "      <td>Master</td>\n",
              "      <td>New York</td>\n",
              "      <td>New York</td>\n",
              "      <td>Master of Business Administration - MBA Manage...</td>\n",
              "      <td>0</td>\n",
              "      <td>0</td>\n",
              "      <td>0</td>\n",
              "      <td>0</td>\n",
              "      <td>0</td>\n",
              "      <td>0</td>\n",
              "      <td>0</td>\n",
              "      <td>0</td>\n",
              "      <td>0</td>\n",
              "      <td>0</td>\n",
              "      <td>0</td>\n",
              "      <td>0</td>\n",
              "      <td>0</td>\n",
              "      <td>0</td>\n",
              "      <td>0</td>\n",
              "      <td>0</td>\n",
              "      <td>0</td>\n",
              "      <td>0</td>\n",
              "      <td>0</td>\n",
              "      <td>0</td>\n",
              "      <td>0</td>\n",
              "      <td>0</td>\n",
              "      <td>0</td>\n",
              "      <td>0</td>\n",
              "      <td>0</td>\n",
              "      <td>0</td>\n",
              "      <td>0</td>\n",
              "      <td>0</td>\n",
              "      <td>0</td>\n",
              "      <td>0</td>\n",
              "      <td>0</td>\n",
              "      <td>0</td>\n",
              "      <td>0</td>\n",
              "      <td>0</td>\n",
              "      <td>0</td>\n",
              "      <td>0</td>\n",
              "      <td>0</td>\n",
              "      <td>0</td>\n",
              "      <td>0</td>\n",
              "      <td>0</td>\n",
              "    </tr>\n",
              "    <tr>\n",
              "      <th>1888</th>\n",
              "      <td>Direct Marketing Manager at Best Western® Hote...</td>\n",
              "      <td>1888</td>\n",
              "      <td>0</td>\n",
              "      <td>No School</td>\n",
              "      <td>Not Specification</td>\n",
              "      <td>Arizona</td>\n",
              "      <td>None</td>\n",
              "      <td>No Degree</td>\n",
              "      <td>0</td>\n",
              "      <td>0</td>\n",
              "      <td>0</td>\n",
              "      <td>0</td>\n",
              "      <td>0</td>\n",
              "      <td>0</td>\n",
              "      <td>0</td>\n",
              "      <td>0</td>\n",
              "      <td>0</td>\n",
              "      <td>0</td>\n",
              "      <td>0</td>\n",
              "      <td>0</td>\n",
              "      <td>0</td>\n",
              "      <td>0</td>\n",
              "      <td>0</td>\n",
              "      <td>0</td>\n",
              "      <td>0</td>\n",
              "      <td>0</td>\n",
              "      <td>0</td>\n",
              "      <td>0</td>\n",
              "      <td>0</td>\n",
              "      <td>0</td>\n",
              "      <td>0</td>\n",
              "      <td>0</td>\n",
              "      <td>0</td>\n",
              "      <td>0</td>\n",
              "      <td>0</td>\n",
              "      <td>0</td>\n",
              "      <td>0</td>\n",
              "      <td>0</td>\n",
              "      <td>0</td>\n",
              "      <td>0</td>\n",
              "      <td>0</td>\n",
              "      <td>0</td>\n",
              "      <td>0</td>\n",
              "      <td>0</td>\n",
              "      <td>0</td>\n",
              "      <td>0</td>\n",
              "      <td>0</td>\n",
              "      <td>0</td>\n",
              "    </tr>\n",
              "    <tr>\n",
              "      <th>1889</th>\n",
              "      <td>Director Of Business Development at Mad Tasty LLC</td>\n",
              "      <td>1889</td>\n",
              "      <td>0</td>\n",
              "      <td>No School</td>\n",
              "      <td>Not Specification</td>\n",
              "      <td>California</td>\n",
              "      <td>None</td>\n",
              "      <td>No Degree</td>\n",
              "      <td>0</td>\n",
              "      <td>0</td>\n",
              "      <td>0</td>\n",
              "      <td>0</td>\n",
              "      <td>0</td>\n",
              "      <td>0</td>\n",
              "      <td>0</td>\n",
              "      <td>0</td>\n",
              "      <td>0</td>\n",
              "      <td>0</td>\n",
              "      <td>0</td>\n",
              "      <td>0</td>\n",
              "      <td>0</td>\n",
              "      <td>0</td>\n",
              "      <td>0</td>\n",
              "      <td>0</td>\n",
              "      <td>0</td>\n",
              "      <td>0</td>\n",
              "      <td>0</td>\n",
              "      <td>0</td>\n",
              "      <td>0</td>\n",
              "      <td>0</td>\n",
              "      <td>0</td>\n",
              "      <td>0</td>\n",
              "      <td>0</td>\n",
              "      <td>0</td>\n",
              "      <td>0</td>\n",
              "      <td>0</td>\n",
              "      <td>0</td>\n",
              "      <td>0</td>\n",
              "      <td>0</td>\n",
              "      <td>0</td>\n",
              "      <td>0</td>\n",
              "      <td>0</td>\n",
              "      <td>0</td>\n",
              "      <td>0</td>\n",
              "      <td>0</td>\n",
              "      <td>0</td>\n",
              "      <td>0</td>\n",
              "      <td>0</td>\n",
              "    </tr>\n",
              "  </tbody>\n",
              "</table>\n",
              "<p>1890 rows × 48 columns</p>\n",
              "</div>"
            ],
            "text/plain": [
              "                                              Job Title  ...  Teamwork\n",
              "0                                          Data Analyst  ...         0\n",
              "1                       Analyst at Gerson Lehrman Group  ...         0\n",
              "2                              Regional Analyst, Google  ...         0\n",
              "3                         Strategy Analyst at Accenture  ...         0\n",
              "4                             Data Analyst at Microsoft  ...         0\n",
              "...                                                 ...  ...       ...\n",
              "1885                             Talent Analyst at Vaco  ...         0\n",
              "1886  Data Science at Caesars Entertainment Corporation  ...         0\n",
              "1887      Marketing Manager at The Mansion at Glen Cove  ...         0\n",
              "1888  Direct Marketing Manager at Best Western® Hote...  ...         0\n",
              "1889  Director Of Business Development at Mad Tasty LLC  ...         0\n",
              "\n",
              "[1890 rows x 48 columns]"
            ]
          },
          "metadata": {
            "tags": []
          },
          "execution_count": 117
        }
      ]
    },
    {
      "cell_type": "code",
      "metadata": {
        "id": "KqhHHyeHK570",
        "colab_type": "code",
        "colab": {}
      },
      "source": [
        "df_new.to_csv('analyst_ver2.csv')"
      ],
      "execution_count": 0,
      "outputs": []
    },
    {
      "cell_type": "code",
      "metadata": {
        "id": "BzjKszAnDtZ1",
        "colab_type": "code",
        "outputId": "6686c3c4-ff33-48c7-e627-f4a20f4b9831",
        "colab": {
          "base_uri": "https://localhost:8080/",
          "height": 251
        }
      },
      "source": [
        "df_sk.columns"
      ],
      "execution_count": 0,
      "outputs": [
        {
          "output_type": "execute_result",
          "data": {
            "text/plain": [
              "Index(['ID', 'Years', 'Skills & Endorsements', 'Tools & Technologies',\n",
              "       'Other Skills', 'Industry Knowledge', 'Interpersonal Skills',\n",
              "       'Marketing Strategy', 'Hospitality', 'Data Analysis', 'PowerPoint',\n",
              "       'Microsoft Word', 'Microsoft Excel', 'Data Analytics', 'Social Media',\n",
              "       'Time Management', 'Management', 'Leadership', 'Team Building',\n",
              "       'Python', 'Sales', 'Research', 'Process Improvement', 'Networking',\n",
              "       'Event Planning', 'Customer Service', 'Tableau', 'Communication',\n",
              "       'Social Media Marketing', 'R', 'Korean', 'Public Speaking',\n",
              "       'Microsoft PowerPoint', 'Google Analytics', 'Team Leadership', 'SQL',\n",
              "       'Marketing Analytics', 'Market Research', 'Microsoft Office',\n",
              "       'Marketing Research', 'Hotels', 'Data Science', 'Project Management',\n",
              "       'Marketing', 'Social Networking', 'Fundraising', 'Teamwork'],\n",
              "      dtype='object')"
            ]
          },
          "metadata": {
            "tags": []
          },
          "execution_count": 110
        }
      ]
    },
    {
      "cell_type": "code",
      "metadata": {
        "id": "u6M5NmL2AGdz",
        "colab_type": "code",
        "outputId": "15d6ac9d-d356-4e95-f93e-82e31263ac2a",
        "colab": {
          "base_uri": "https://localhost:8080/",
          "height": 107
        }
      },
      "source": [
        "for col in col_sk:\n",
        "    print(df_sk.iloc[0][col]=='SQL')"
      ],
      "execution_count": 0,
      "outputs": [
        {
          "output_type": "stream",
          "text": [
            "False\n",
            "False\n",
            "False\n",
            "False\n",
            "False\n"
          ],
          "name": "stdout"
        }
      ]
    },
    {
      "cell_type": "code",
      "metadata": {
        "id": "p0LkaW1i2sjr",
        "colab_type": "code",
        "outputId": "79849a7c-84fc-443b-e8c1-ce90f7c6df43",
        "colab": {
          "base_uri": "https://localhost:8080/",
          "height": 215
        }
      },
      "source": [
        "pd.Series(sk_li1).value_counts().iloc[:10]"
      ],
      "execution_count": 0,
      "outputs": [
        {
          "output_type": "execute_result",
          "data": {
            "text/plain": [
              "Microsoft Office    280\n",
              "Microsoft Excel     251\n",
              "Leadership          191\n",
              "Data Analysis       145\n",
              "Public Speaking     125\n",
              "Customer Service    107\n",
              "Marketing            89\n",
              "Social Media         84\n",
              "SQL                  83\n",
              "R                    80\n",
              "dtype: int64"
            ]
          },
          "metadata": {
            "tags": []
          },
          "execution_count": 57
        }
      ]
    },
    {
      "cell_type": "code",
      "metadata": {
        "id": "g3THJm4K2M1s",
        "colab_type": "code",
        "outputId": "4d2924bd-2059-43a3-fd50-f267b7a8c40e",
        "colab": {
          "base_uri": "https://localhost:8080/",
          "height": 215
        }
      },
      "source": [
        "pd.Series(sk_li2).value_counts().iloc[:10]"
      ],
      "execution_count": 0,
      "outputs": [
        {
          "output_type": "execute_result",
          "data": {
            "text/plain": [
              "Microsoft Excel         528\n",
              "Microsoft Office        472\n",
              "Microsoft Word          450\n",
              "PowerPoint              377\n",
              "Microsoft PowerPoint    317\n",
              "SQL                     192\n",
              "Tableau                 163\n",
              "R                       139\n",
              "Python                  138\n",
              "Google Analytics        107\n",
              "dtype: int64"
            ]
          },
          "metadata": {
            "tags": []
          },
          "execution_count": 58
        }
      ]
    },
    {
      "cell_type": "code",
      "metadata": {
        "id": "x-LJ-OCc2RBq",
        "colab_type": "code",
        "outputId": "de74a6bc-1dfc-42eb-f758-bd2a6180159a",
        "colab": {
          "base_uri": "https://localhost:8080/",
          "height": 215
        }
      },
      "source": [
        "pd.Series(sk_li3).value_counts().iloc[:10]"
      ],
      "execution_count": 0,
      "outputs": [
        {
          "output_type": "execute_result",
          "data": {
            "text/plain": [
              "Leadership          416\n",
              "Public Speaking     365\n",
              "Customer Service    343\n",
              "Management          343\n",
              "Teamwork            334\n",
              "Time Management     200\n",
              "Communication       119\n",
              "Team Leadership     103\n",
              "Fundraising          74\n",
              "Team Building        69\n",
              "dtype: int64"
            ]
          },
          "metadata": {
            "tags": []
          },
          "execution_count": 59
        }
      ]
    },
    {
      "cell_type": "code",
      "metadata": {
        "id": "XFqjhYlu2RJ8",
        "colab_type": "code",
        "outputId": "ae7a81da-3c08-4c95-9511-5068b86b20ed",
        "colab": {
          "base_uri": "https://localhost:8080/",
          "height": 215
        }
      },
      "source": [
        "pd.Series(sk_li4).value_counts().iloc[:10]"
      ],
      "execution_count": 0,
      "outputs": [
        {
          "output_type": "execute_result",
          "data": {
            "text/plain": [
              "Social Networking      159\n",
              "Hospitality             39\n",
              "Networking              35\n",
              "Data Analytics          34\n",
              "Hotels                  26\n",
              "Marketing Research      25\n",
              "Marketing Analytics     21\n",
              "Korean                  21\n",
              "Process Improvement     20\n",
              "Data Science            17\n",
              "dtype: int64"
            ]
          },
          "metadata": {
            "tags": []
          },
          "execution_count": 60
        }
      ]
    },
    {
      "cell_type": "code",
      "metadata": {
        "id": "XsmCpoEn2RUR",
        "colab_type": "code",
        "outputId": "4b17f70d-f7c2-4fa5-940c-7843210b1710",
        "colab": {
          "base_uri": "https://localhost:8080/",
          "height": 215
        }
      },
      "source": [
        "pd.Series(sk_li5).value_counts().iloc[:10]"
      ],
      "execution_count": 0,
      "outputs": [
        {
          "output_type": "execute_result",
          "data": {
            "text/plain": [
              "Social Media              385\n",
              "Research                  385\n",
              "Data Analysis             349\n",
              "Marketing                 282\n",
              "Event Planning            264\n",
              "Project Management        242\n",
              "Marketing Strategy        175\n",
              "Social Media Marketing    174\n",
              "Sales                     163\n",
              "Market Research           159\n",
              "dtype: int64"
            ]
          },
          "metadata": {
            "tags": []
          },
          "execution_count": 61
        }
      ]
    },
    {
      "cell_type": "code",
      "metadata": {
        "id": "ICMLntkyunAN",
        "colab_type": "code",
        "colab": {}
      },
      "source": [
        "## skill별 Top 10\n",
        "print(pd.Series(skill_list1).value_counts().iloc[:10])\n",
        "print('\\n',pd.Series(skill_list2).value_counts().iloc[:10])\n",
        "print('\\n',pd.Series(skill_list3).value_counts().iloc[:10])\n",
        "print('\\n',pd.Series(skill_list4).value_counts().iloc[:10])\n",
        "print('\\n',pd.Series(skill_list5).value_counts().iloc[:10])\n",
        "## Issue Analyst의 경우 skills:'','',이런식으로 되어있는 경우가 있음"
      ],
      "execution_count": 0,
      "outputs": []
    },
    {
      "cell_type": "code",
      "metadata": {
        "id": "HQhcwZ22unAO",
        "colab_type": "code",
        "colab": {}
      },
      "source": [
        "## 가지고 있는 스킬의 수를 구하는 함수\n",
        "def get_cnt_skill(ro):\n",
        "    return len(ro) "
      ],
      "execution_count": 0,
      "outputs": []
    },
    {
      "cell_type": "code",
      "metadata": {
        "id": "qmlHFtxhunAQ",
        "colab_type": "code",
        "colab": {}
      },
      "source": [
        "df['endorsement cnt'] = df['Skills & Endorsements'].apply(lambda x:get_cnt_skill(x))\n",
        "df['tool cnt']        = df['Tools & Technologies'].apply(lambda x:get_cnt_skill(x))\n",
        "df['personal cnt']    = df['Interpersonal Skills'].apply(lambda x:get_cnt_skill(x))\n",
        "df['etc cnt']         = df['Other Skills'].apply(lambda x:get_cnt_skill(x))\n",
        "df['knowledge cnt']   = df['Industry Knowledge'].apply(lambda x:get_cnt_skill(x))"
      ],
      "execution_count": 0,
      "outputs": []
    },
    {
      "cell_type": "code",
      "metadata": {
        "id": "3vFjUNeCunAS",
        "colab_type": "code",
        "colab": {}
      },
      "source": [
        "## skill명과 skill column을 받아 스킬수를 출력해보자\n",
        "def have_skill(ski,ser):\n",
        "    tf=0\n",
        "    for idx in range(len(ser)):\n",
        "        if ski in ser.iloc[idx]:\n",
        "            tf+=1\n",
        "    return tf"
      ],
      "execution_count": 0,
      "outputs": []
    },
    {
      "cell_type": "code",
      "metadata": {
        "id": "HQHMeXfnunAU",
        "colab_type": "code",
        "outputId": "81b5aef6-7686-4f69-beac-debd16cf8e1c",
        "colab": {}
      },
      "source": [
        "ski = input('조회할 스킬')\n",
        "col = input('조회할 컬럼명')\n",
        "print('{}를 갖고 있는 사람의 수는 {}'.format(ski,have_skill(ski,df[col])))"
      ],
      "execution_count": 0,
      "outputs": [
        {
          "output_type": "stream",
          "text": [
            "조회할 스킬Python\n",
            "조회할 컬럼명Other Skills\n",
            "Python를 갖고 있는 사람의 수는 0\n"
          ],
          "name": "stdout"
        }
      ]
    },
    {
      "cell_type": "code",
      "metadata": {
        "id": "RqWzQjItunAV",
        "colab_type": "code",
        "colab": {}
      },
      "source": [
        "## 스킬 컬럼을 선택했을때 갖고 있는 스킬의 분포를 확인하고 싶다.\n",
        "def get_dist(col,tp_sel):\n",
        "    plt.figure(figsize = (10,5))\n",
        "    a=list()\n",
        "    for idx in range(len(df[col])):\n",
        "        for i,v in enumerate(df[col].iloc[idx]):\n",
        "            a.append(v)\n",
        "    return pd.Series(a).value_counts().iloc[:tp_sel].plot(kind='bar')\n",
        "    #return df_skill[col].value_counts()"
      ],
      "execution_count": 0,
      "outputs": []
    },
    {
      "cell_type": "code",
      "metadata": {
        "id": "ablPqnrtunAX",
        "colab_type": "code",
        "outputId": "01341f28-eb8a-4f82-9c44-16478fa4ab94",
        "colab": {}
      },
      "source": [
        "col=input('조회할 컬럼')\n",
        "tp_sel = int(input('Top몇'))\n",
        "get_dist(col,tp_sel)"
      ],
      "execution_count": 0,
      "outputs": [
        {
          "output_type": "stream",
          "text": [
            "조회할 컬럼Other Skills\n",
            "Top몇15\n"
          ],
          "name": "stdout"
        },
        {
          "output_type": "execute_result",
          "data": {
            "text/plain": [
              "<matplotlib.axes._subplots.AxesSubplot at 0x29968617128>"
            ]
          },
          "metadata": {
            "tags": []
          },
          "execution_count": 17
        },
        {
          "output_type": "display_data",
          "data": {
            "image/png": "[encoded data removed]",
            "text/plain": [
              "<Figure size 720x360 with 1 Axes>"
            ]
          },
          "metadata": {
            "tags": [],
            "needs_background": "light"
          }
        }
      ]
    },
    {
      "cell_type": "markdown",
      "metadata": {
        "id": "d69851oxuz8B",
        "colab_type": "text"
      },
      "source": [
        "## Year"
      ]
    },
    {
      "cell_type": "code",
      "metadata": {
        "id": "SMb_eT5uunAZ",
        "colab_type": "code",
        "colab": {}
      },
      "source": [
        "def get_year(tr):\n",
        "    mo_tr = 0\n",
        "    ye_tr = 0\n",
        "    year = 0\n",
        "    for i in range(len(tr)):\n",
        "        \n",
        "        tr[i]['Years'] = tr[i]['Years'].replace(' ','').replace('yrs','yr').replace('mos','mo')\n",
        "        if 'yr' in tr[i]['Years'] and 'mo' in tr[i]['Years']:\n",
        "            ye_tr+=np.int(tr[i]['Years'].replace('mo','').split('yr')[0])\n",
        "            mo_tr+=np.int(tr[i]['Years'].replace('mo','').split('yr')[1])\n",
        "        elif 'yr' not in tr[i]['Years'] and 'mo' in tr[i]['Years']:\n",
        "            mo_tr+=np.int(tr[i]['Years'].replace('mo',''))\n",
        "            ye_tr+=0\n",
        "        elif 'yr' in tr[i]['Years'] and 'mo' not in tr[i]['Years']:\n",
        "            ye_tr+=np.int(tr[i]['Years'].replace('yr',''))\n",
        "            mo_tr+=0\n",
        "        else:\n",
        "            ye_tr+=0\n",
        "            mo_tr+= 0\n",
        "    year = int(round(((ye_tr*12)+mo_tr)/12,0))\n",
        "    return year"
      ],
      "execution_count": 0,
      "outputs": []
    },
    {
      "cell_type": "code",
      "metadata": {
        "id": "78sWI_mvunAb",
        "colab_type": "code",
        "colab": {}
      },
      "source": [
        "df['Years'] = df['Experience'].apply(lambda x:get_year(x))"
      ],
      "execution_count": 0,
      "outputs": []
    },
    {
      "cell_type": "code",
      "metadata": {
        "id": "KociN90bunAd",
        "colab_type": "code",
        "colab": {}
      },
      "source": [
        "def get_school(ser):\n",
        "     \n",
        "    if len(ser)==0:\n",
        "        school = 'No School'\n",
        "    else:\n",
        "        school = ser[0]['School']\n",
        "    return school"
      ],
      "execution_count": 0,
      "outputs": []
    },
    {
      "cell_type": "code",
      "metadata": {
        "id": "nJTf1BkLunAg",
        "colab_type": "code",
        "outputId": "6a563b77-8da8-4ed6-fc06-821adc8e4e21",
        "colab": {
          "base_uri": "https://localhost:8080/",
          "height": 649
        }
      },
      "source": [
        "df['School'] = df['Education'].apply(lambda x:get_school(x))\n",
        "df.head()"
      ],
      "execution_count": 0,
      "outputs": [
        {
          "output_type": "execute_result",
          "data": {
            "text/html": [
              "<div>\n",
              "<style scoped>\n",
              "    .dataframe tbody tr th:only-of-type {\n",
              "        vertical-align: middle;\n",
              "    }\n",
              "\n",
              "    .dataframe tbody tr th {\n",
              "        vertical-align: top;\n",
              "    }\n",
              "\n",
              "    .dataframe thead th {\n",
              "        text-align: right;\n",
              "    }\n",
              "</style>\n",
              "<table border=\"1\" class=\"dataframe\">\n",
              "  <thead>\n",
              "    <tr style=\"text-align: right;\">\n",
              "      <th></th>\n",
              "      <th>index</th>\n",
              "      <th></th>\n",
              "      <th>Date Captured</th>\n",
              "      <th>Education</th>\n",
              "      <th>Experience</th>\n",
              "      <th>Industry Knowledge</th>\n",
              "      <th>Interpersonal Skills</th>\n",
              "      <th>Job Title</th>\n",
              "      <th>Languages</th>\n",
              "      <th>Location</th>\n",
              "      <th>Other Skills</th>\n",
              "      <th>Profile Summary</th>\n",
              "      <th>ProfileID</th>\n",
              "      <th>Skills &amp; Endorsements</th>\n",
              "      <th>Tools &amp; Technologies</th>\n",
              "      <th>_id</th>\n",
              "      <th>endorsement cnt</th>\n",
              "      <th>tool cnt</th>\n",
              "      <th>personal cnt</th>\n",
              "      <th>etc cnt</th>\n",
              "      <th>knowledge cnt</th>\n",
              "      <th>Years</th>\n",
              "      <th>School</th>\n",
              "    </tr>\n",
              "  </thead>\n",
              "  <tbody>\n",
              "    <tr>\n",
              "      <th>0</th>\n",
              "      <td>0</td>\n",
              "      <td>[]</td>\n",
              "      <td>2019-11-09</td>\n",
              "      <td>[{'School': 'University of California, Irvine ...</td>\n",
              "      <td>[{'Job Title': 'Data Analyst', 'Company': 'NEX...</td>\n",
              "      <td>[SEO, Business Development, Online Marketing, ...</td>\n",
              "      <td>[Management, Customer Service]</td>\n",
              "      <td>Data Analyst</td>\n",
              "      <td>[]</td>\n",
              "      <td>Emeryville, California</td>\n",
              "      <td>[Inbound Marketing, DoubleClick, Ad Networks, ...</td>\n",
              "      <td>Detail-oriented marketing data analyst with st...</td>\n",
              "      <td>emmabobaekong</td>\n",
              "      <td>[Data Analysis, SQL, Tableau]</td>\n",
              "      <td>[Google Analytics, Python, Google Adwords, Goo...</td>\n",
              "      <td>{'$oid': '5dc67f352d165786280a5e89'}</td>\n",
              "      <td>3</td>\n",
              "      <td>14</td>\n",
              "      <td>2</td>\n",
              "      <td>6</td>\n",
              "      <td>15</td>\n",
              "      <td>4</td>\n",
              "      <td>University of California, Irvine Division of C...</td>\n",
              "    </tr>\n",
              "    <tr>\n",
              "      <th>1</th>\n",
              "      <td>1</td>\n",
              "      <td>[]</td>\n",
              "      <td>2019-11-09</td>\n",
              "      <td>[{'School': 'University of Surrey', 'Degree': ...</td>\n",
              "      <td>[{'Job Title': 'Analyst', 'Company': 'GLG (Ger...</td>\n",
              "      <td>[customer relation management]</td>\n",
              "      <td>[Problem Solving, talent management]</td>\n",
              "      <td>Analyst at Gerson Lehrman Group</td>\n",
              "      <td>[]</td>\n",
              "      <td>United States</td>\n",
              "      <td>[리서치, 프로젝트 관리, MS 오피스, 고객서비스, 팀워크, 문제관리]</td>\n",
              "      <td></td>\n",
              "      <td>jinwoo-kang-097b0977</td>\n",
              "      <td>[market research, analyzing, recruiting]</td>\n",
              "      <td>[]</td>\n",
              "      <td>{'$oid': '5dc67f512d165786280a5e8b'}</td>\n",
              "      <td>3</td>\n",
              "      <td>1</td>\n",
              "      <td>2</td>\n",
              "      <td>6</td>\n",
              "      <td>1</td>\n",
              "      <td>3</td>\n",
              "      <td>University of Surrey</td>\n",
              "    </tr>\n",
              "    <tr>\n",
              "      <th>2</th>\n",
              "      <td>2</td>\n",
              "      <td>[]</td>\n",
              "      <td>2019-11-09</td>\n",
              "      <td>[{'School': 'University of California, Los Ang...</td>\n",
              "      <td>[{'Job Title': 'Company Name Google', 'Company...</td>\n",
              "      <td>[Project Management, Competitive Analysis]</td>\n",
              "      <td>[]</td>\n",
              "      <td>Regional Analyst, Google</td>\n",
              "      <td>[]</td>\n",
              "      <td>Greater New York City Area</td>\n",
              "      <td>[Marketing Research, Strategic Insights, Consu...</td>\n",
              "      <td></td>\n",
              "      <td>suzannesoojungbae</td>\n",
              "      <td>[Online Advertising, Digital Marketing, Digita...</td>\n",
              "      <td>[]</td>\n",
              "      <td>{'$oid': '5dc67f692d165786280a5e8d'}</td>\n",
              "      <td>3</td>\n",
              "      <td>1</td>\n",
              "      <td>1</td>\n",
              "      <td>4</td>\n",
              "      <td>2</td>\n",
              "      <td>9</td>\n",
              "      <td>University of California, Los Angeles</td>\n",
              "    </tr>\n",
              "    <tr>\n",
              "      <th>3</th>\n",
              "      <td>3</td>\n",
              "      <td>[]</td>\n",
              "      <td>2019-11-09</td>\n",
              "      <td>[{'School': 'University of California, Berkele...</td>\n",
              "      <td>[{'Job Title': 'Strategy Analyst', 'Company': ...</td>\n",
              "      <td>[Data Analysis, Event Planning, Social Media]</td>\n",
              "      <td>[Leadership, Customer Service, Management]</td>\n",
              "      <td>Strategy Analyst at Accenture</td>\n",
              "      <td>[]</td>\n",
              "      <td>Berkeley, California</td>\n",
              "      <td>[]</td>\n",
              "      <td></td>\n",
              "      <td>hayliekim</td>\n",
              "      <td>[Microsoft Office, Public Speaking, Research]</td>\n",
              "      <td>[Microsoft Excel, Microsoft Word, Microsoft Po...</td>\n",
              "      <td>{'$oid': '5dc67f832d165786280a5e8f'}</td>\n",
              "      <td>3</td>\n",
              "      <td>5</td>\n",
              "      <td>3</td>\n",
              "      <td>1</td>\n",
              "      <td>3</td>\n",
              "      <td>8</td>\n",
              "      <td>University of California, Berkeley</td>\n",
              "    </tr>\n",
              "    <tr>\n",
              "      <th>4</th>\n",
              "      <td>4</td>\n",
              "      <td>[]</td>\n",
              "      <td>2019-11-09</td>\n",
              "      <td>[{'School': 'University of Pittsburgh College ...</td>\n",
              "      <td>[{'Job Title': 'Company Name Responsival', 'Co...</td>\n",
              "      <td>[Digital Marketing, Public Relations, Social M...</td>\n",
              "      <td>[Leadership, Communication, Public Speaking]</td>\n",
              "      <td>Data Analyst at Microsoft</td>\n",
              "      <td>[{'Skills': 'Chinese'}]</td>\n",
              "      <td>Greater Pittsburgh Area</td>\n",
              "      <td>[HootSuite]</td>\n",
              "      <td>A passionate and eager individual who is alway...</td>\n",
              "      <td>angeline-peng</td>\n",
              "      <td>[Project Management, Strategic Planning, Socia...</td>\n",
              "      <td>[Microsoft Office, YouTube, Java, HTML]</td>\n",
              "      <td>{'$oid': '5dc67f9e2d165786280a5e91'}</td>\n",
              "      <td>3</td>\n",
              "      <td>4</td>\n",
              "      <td>3</td>\n",
              "      <td>1</td>\n",
              "      <td>3</td>\n",
              "      <td>3</td>\n",
              "      <td>University of Pittsburgh College of Business A...</td>\n",
              "    </tr>\n",
              "  </tbody>\n",
              "</table>\n",
              "</div>"
            ],
            "text/plain": [
              "   index      ... Years                                             School\n",
              "0      0  []  ...     4  University of California, Irvine Division of C...\n",
              "1      1  []  ...     3                               University of Surrey\n",
              "2      2  []  ...     9              University of California, Los Angeles\n",
              "3      3  []  ...     8                 University of California, Berkeley\n",
              "4      4  []  ...     3  University of Pittsburgh College of Business A...\n",
              "\n",
              "[5 rows x 23 columns]"
            ]
          },
          "metadata": {
            "tags": []
          },
          "execution_count": 22
        }
      ]
    },
    {
      "cell_type": "markdown",
      "metadata": {
        "id": "M70kKuAJunAk",
        "colab_type": "text"
      },
      "source": [
        "## Degree"
      ]
    },
    {
      "cell_type": "code",
      "metadata": {
        "id": "7yVC5y0CunAl",
        "colab_type": "code",
        "colab": {}
      },
      "source": [
        "def get_degree(ser):\n",
        "    if len(ser)==0:\n",
        "        deg = 'Not Specification'\n",
        "    else:\n",
        "        deg = ser[0]['Degree']\n",
        "    return deg"
      ],
      "execution_count": 0,
      "outputs": []
    },
    {
      "cell_type": "code",
      "metadata": {
        "id": "jglouSlEunAn",
        "colab_type": "code",
        "outputId": "1aeec6dd-6a1e-497e-9e40-60d0584be962",
        "colab": {
          "base_uri": "https://localhost:8080/",
          "height": 35
        }
      },
      "source": [
        "df['Degree'] = df['Education'].apply(lambda x:get_degree(x))\n",
        "df.iloc[5,-1]"
      ],
      "execution_count": 0,
      "outputs": [
        {
          "output_type": "execute_result",
          "data": {
            "text/plain": [
              "'Master of Fine Arts (MFA) Communication Design '"
            ]
          },
          "metadata": {
            "tags": []
          },
          "execution_count": 24
        }
      ]
    },
    {
      "cell_type": "code",
      "metadata": {
        "id": "lkeHeRL7unAp",
        "colab_type": "code",
        "outputId": "55eaed74-5ce9-4f2e-eca4-b283d8052410",
        "colab": {
          "base_uri": "https://localhost:8080/",
          "height": 204
        }
      },
      "source": [
        "## 수작업을 위해 degree만 빼와서 작업해보자\n",
        "df_deg = df[['Degree']]\n",
        "df_deg['punct'] = df_deg['Degree'].apply(lambda x:remove_punct(x.replace(' ','').lower()))\n",
        "#df_deg['tokn']  = df_deg['punct'].apply(lambda x:tokenize(x))\n",
        "#df_deg['stp']   = df_deg['tokn'].apply(lambda x:remove_stopwords(x))\n",
        "#df_deg['lemm']  = df_deg['stp'].apply(lambda x:lemmatizing(x))\n",
        "df_deg['two'] = df_deg['punct'].apply(lambda x:x[:2])\n",
        "df_deg.head()"
      ],
      "execution_count": 0,
      "outputs": [
        {
          "output_type": "execute_result",
          "data": {
            "text/html": [
              "<div>\n",
              "<style scoped>\n",
              "    .dataframe tbody tr th:only-of-type {\n",
              "        vertical-align: middle;\n",
              "    }\n",
              "\n",
              "    .dataframe tbody tr th {\n",
              "        vertical-align: top;\n",
              "    }\n",
              "\n",
              "    .dataframe thead th {\n",
              "        text-align: right;\n",
              "    }\n",
              "</style>\n",
              "<table border=\"1\" class=\"dataframe\">\n",
              "  <thead>\n",
              "    <tr style=\"text-align: right;\">\n",
              "      <th></th>\n",
              "      <th>Degree</th>\n",
              "      <th>punct</th>\n",
              "      <th>two</th>\n",
              "    </tr>\n",
              "  </thead>\n",
              "  <tbody>\n",
              "    <tr>\n",
              "      <th>0</th>\n",
              "      <td>Certificate of Data Analytics Management Infor...</td>\n",
              "      <td>certificateofdataanalyticsmanagementinformatio...</td>\n",
              "      <td>ce</td>\n",
              "    </tr>\n",
              "    <tr>\n",
              "      <th>1</th>\n",
              "      <td>Bachelor of Science - BS Field Of Study</td>\n",
              "      <td>bachelorofsciencebsfieldofstudy</td>\n",
              "      <td>ba</td>\n",
              "    </tr>\n",
              "    <tr>\n",
              "      <th>2</th>\n",
              "      <td>East Asian Studies</td>\n",
              "      <td>eastasianstudies</td>\n",
              "      <td>ea</td>\n",
              "    </tr>\n",
              "    <tr>\n",
              "      <th>3</th>\n",
              "      <td></td>\n",
              "      <td></td>\n",
              "      <td></td>\n",
              "    </tr>\n",
              "    <tr>\n",
              "      <th>4</th>\n",
              "      <td>Bachelor of Business Administration - BBA Mark...</td>\n",
              "      <td>bachelorofbusinessadministrationbbamarketingdi...</td>\n",
              "      <td>ba</td>\n",
              "    </tr>\n",
              "  </tbody>\n",
              "</table>\n",
              "</div>"
            ],
            "text/plain": [
              "                                              Degree  ... two\n",
              "0  Certificate of Data Analytics Management Infor...  ...  ce\n",
              "1           Bachelor of Science - BS Field Of Study   ...  ba\n",
              "2                                East Asian Studies   ...  ea\n",
              "3                                                     ...    \n",
              "4  Bachelor of Business Administration - BBA Mark...  ...  ba\n",
              "\n",
              "[5 rows x 3 columns]"
            ]
          },
          "metadata": {
            "tags": []
          },
          "execution_count": 25
        }
      ]
    },
    {
      "cell_type": "code",
      "metadata": {
        "id": "cR4SAi7NunAr",
        "colab_type": "code",
        "outputId": "98a55c99-dcdc-4121-cb4b-0452f99e28c8",
        "colab": {
          "base_uri": "https://localhost:8080/",
          "height": 669
        }
      },
      "source": [
        "df_deg[df_deg['two']=='ec'][['Degree','two']]"
      ],
      "execution_count": 0,
      "outputs": [
        {
          "output_type": "execute_result",
          "data": {
            "text/html": [
              "<div>\n",
              "<style scoped>\n",
              "    .dataframe tbody tr th:only-of-type {\n",
              "        vertical-align: middle;\n",
              "    }\n",
              "\n",
              "    .dataframe tbody tr th {\n",
              "        vertical-align: top;\n",
              "    }\n",
              "\n",
              "    .dataframe thead th {\n",
              "        text-align: right;\n",
              "    }\n",
              "</style>\n",
              "<table border=\"1\" class=\"dataframe\">\n",
              "  <thead>\n",
              "    <tr style=\"text-align: right;\">\n",
              "      <th></th>\n",
              "      <th>Degree</th>\n",
              "      <th>two</th>\n",
              "    </tr>\n",
              "  </thead>\n",
              "  <tbody>\n",
              "    <tr>\n",
              "      <th>69</th>\n",
              "      <td>Economics Bachelor of Arts (B.A.)</td>\n",
              "      <td>ec</td>\n",
              "    </tr>\n",
              "    <tr>\n",
              "      <th>75</th>\n",
              "      <td>Economics and Legal Studies double major</td>\n",
              "      <td>ec</td>\n",
              "    </tr>\n",
              "    <tr>\n",
              "      <th>85</th>\n",
              "      <td>Economics</td>\n",
              "      <td>ec</td>\n",
              "    </tr>\n",
              "    <tr>\n",
              "      <th>207</th>\n",
              "      <td>Economics</td>\n",
              "      <td>ec</td>\n",
              "    </tr>\n",
              "    <tr>\n",
              "      <th>218</th>\n",
              "      <td>Economics</td>\n",
              "      <td>ec</td>\n",
              "    </tr>\n",
              "    <tr>\n",
              "      <th>231</th>\n",
              "      <td>Economics and Business &amp; Administrations</td>\n",
              "      <td>ec</td>\n",
              "    </tr>\n",
              "    <tr>\n",
              "      <th>248</th>\n",
              "      <td>Economics 3.88</td>\n",
              "      <td>ec</td>\n",
              "    </tr>\n",
              "    <tr>\n",
              "      <th>249</th>\n",
              "      <td>Economics, Art History</td>\n",
              "      <td>ec</td>\n",
              "    </tr>\n",
              "    <tr>\n",
              "      <th>305</th>\n",
              "      <td>Ecomonics and Political Science Senior</td>\n",
              "      <td>ec</td>\n",
              "    </tr>\n",
              "    <tr>\n",
              "      <th>314</th>\n",
              "      <td>Economics</td>\n",
              "      <td>ec</td>\n",
              "    </tr>\n",
              "    <tr>\n",
              "      <th>368</th>\n",
              "      <td>Economics, IMC, Korean Minor</td>\n",
              "      <td>ec</td>\n",
              "    </tr>\n",
              "    <tr>\n",
              "      <th>488</th>\n",
              "      <td>Economics and Mind, Brain, and Behavior</td>\n",
              "      <td>ec</td>\n",
              "    </tr>\n",
              "    <tr>\n",
              "      <th>692</th>\n",
              "      <td>Economics Business Administration</td>\n",
              "      <td>ec</td>\n",
              "    </tr>\n",
              "    <tr>\n",
              "      <th>759</th>\n",
              "      <td>Economics Japanese Studies Minor</td>\n",
              "      <td>ec</td>\n",
              "    </tr>\n",
              "    <tr>\n",
              "      <th>1033</th>\n",
              "      <td>Economics and Asian American Studies  3.8</td>\n",
              "      <td>ec</td>\n",
              "    </tr>\n",
              "    <tr>\n",
              "      <th>1435</th>\n",
              "      <td>Economics, Cognitive Science</td>\n",
              "      <td>ec</td>\n",
              "    </tr>\n",
              "    <tr>\n",
              "      <th>1457</th>\n",
              "      <td>Economics</td>\n",
              "      <td>ec</td>\n",
              "    </tr>\n",
              "    <tr>\n",
              "      <th>1505</th>\n",
              "      <td>Economics Second Year</td>\n",
              "      <td>ec</td>\n",
              "    </tr>\n",
              "    <tr>\n",
              "      <th>1594</th>\n",
              "      <td>Economics and International Relations, Englis...</td>\n",
              "      <td>ec</td>\n",
              "    </tr>\n",
              "    <tr>\n",
              "      <th>1609</th>\n",
              "      <td>Economics, Operations Research Management Sci...</td>\n",
              "      <td>ec</td>\n",
              "    </tr>\n",
              "  </tbody>\n",
              "</table>\n",
              "</div>"
            ],
            "text/plain": [
              "                                                 Degree two\n",
              "69                  Economics Bachelor of Arts (B.A.)    ec\n",
              "75            Economics and Legal Studies double major   ec\n",
              "85                                          Economics    ec\n",
              "207                                          Economics   ec\n",
              "218                                          Economics   ec\n",
              "231           Economics and Business & Administrations   ec\n",
              "248                                      Economics 3.88  ec\n",
              "249                             Economics, Art History   ec\n",
              "305              Ecomonics and Political Science Senior  ec\n",
              "314                                          Economics   ec\n",
              "368                       Economics, IMC, Korean Minor   ec\n",
              "488            Economics and Mind, Brain, and Behavior   ec\n",
              "692                  Economics Business Administration   ec\n",
              "759                   Economics Japanese Studies Minor   ec\n",
              "1033          Economics and Asian American Studies  3.8  ec\n",
              "1435                      Economics, Cognitive Science   ec\n",
              "1457                                         Economics   ec\n",
              "1505                              Economics Second Year  ec\n",
              "1594   Economics and International Relations, Englis...  ec\n",
              "1609   Economics, Operations Research Management Sci...  ec"
            ]
          },
          "metadata": {
            "tags": []
          },
          "execution_count": 26
        }
      ]
    },
    {
      "cell_type": "code",
      "metadata": {
        "id": "rQ_xAgNmunAt",
        "colab_type": "code",
        "colab": {}
      },
      "source": [
        "## no는 degree입력 안한사람들\n",
        "##   는 입력은 했는데 space로 입력했나봄\n"
      ],
      "execution_count": 0,
      "outputs": []
    },
    {
      "cell_type": "code",
      "metadata": {
        "id": "vwWHA29KunAv",
        "colab_type": "code",
        "colab": {}
      },
      "source": [
        "# kind_deg = df_deg['two'].value_counts()\n",
        "# kind_deg 'ma' 'ba' 'no' 'do' \n",
        "def deg_class(tr):\n",
        "    if len(tr)==0 or tr[0]=='n':\n",
        "        ret = 'Not Specification'\n",
        "    elif tr[0]=='b':\n",
        "        ret = 'Bachelor'\n",
        "    elif tr[0]=='m':\n",
        "        ret = 'Master'\n",
        "    elif tr[0]=='d' or tr=='ph':\n",
        "        ret = 'Ph.D'\n",
        "    else:\n",
        "        ret = 'ETC'\n",
        "    return ret"
      ],
      "execution_count": 0,
      "outputs": []
    },
    {
      "cell_type": "code",
      "metadata": {
        "id": "Gn0p3IsmunAw",
        "colab_type": "code",
        "colab": {}
      },
      "source": [
        "df['Degree'] = df_deg['two'].apply(lambda x:deg_class(x))"
      ],
      "execution_count": 0,
      "outputs": []
    },
    {
      "cell_type": "markdown",
      "metadata": {
        "id": "4OgdTlZounAx",
        "colab_type": "text"
      },
      "source": [
        "## Location"
      ]
    },
    {
      "cell_type": "code",
      "metadata": {
        "id": "mj1OIierunAy",
        "colab_type": "code",
        "outputId": "18775749-b7d1-4fc6-8b27-dd85f19f859b",
        "colab": {
          "base_uri": "https://localhost:8080/",
          "height": 419
        }
      },
      "source": [
        "city_state = pd.read_csv('/content/drive/My Drive/Python/Project/Smart Career/city_state.csv')\n",
        "city_state"
      ],
      "execution_count": 0,
      "outputs": [
        {
          "output_type": "execute_result",
          "data": {
            "text/html": [
              "<div>\n",
              "<style scoped>\n",
              "    .dataframe tbody tr th:only-of-type {\n",
              "        vertical-align: middle;\n",
              "    }\n",
              "\n",
              "    .dataframe tbody tr th {\n",
              "        vertical-align: top;\n",
              "    }\n",
              "\n",
              "    .dataframe thead th {\n",
              "        text-align: right;\n",
              "    }\n",
              "</style>\n",
              "<table border=\"1\" class=\"dataframe\">\n",
              "  <thead>\n",
              "    <tr style=\"text-align: right;\">\n",
              "      <th></th>\n",
              "      <th>city</th>\n",
              "      <th>state</th>\n",
              "      <th>state_s</th>\n",
              "      <th>city_s</th>\n",
              "    </tr>\n",
              "  </thead>\n",
              "  <tbody>\n",
              "    <tr>\n",
              "      <th>0</th>\n",
              "      <td>New York</td>\n",
              "      <td>New York</td>\n",
              "      <td>newyork</td>\n",
              "      <td>newyork</td>\n",
              "    </tr>\n",
              "    <tr>\n",
              "      <th>1</th>\n",
              "      <td>Los Angeles</td>\n",
              "      <td>California</td>\n",
              "      <td>california</td>\n",
              "      <td>losangeles</td>\n",
              "    </tr>\n",
              "    <tr>\n",
              "      <th>2</th>\n",
              "      <td>Chicago</td>\n",
              "      <td>Illinois</td>\n",
              "      <td>illinois</td>\n",
              "      <td>chicago</td>\n",
              "    </tr>\n",
              "    <tr>\n",
              "      <th>3</th>\n",
              "      <td>Houston</td>\n",
              "      <td>Texas</td>\n",
              "      <td>texas</td>\n",
              "      <td>houston</td>\n",
              "    </tr>\n",
              "    <tr>\n",
              "      <th>4</th>\n",
              "      <td>Phoenix</td>\n",
              "      <td>Arizona</td>\n",
              "      <td>arizona</td>\n",
              "      <td>phoenix</td>\n",
              "    </tr>\n",
              "    <tr>\n",
              "      <th>...</th>\n",
              "      <td>...</td>\n",
              "      <td>...</td>\n",
              "      <td>...</td>\n",
              "      <td>...</td>\n",
              "    </tr>\n",
              "    <tr>\n",
              "      <th>309</th>\n",
              "      <td>Edison</td>\n",
              "      <td>New Jersey</td>\n",
              "      <td>newjersey</td>\n",
              "      <td>edison</td>\n",
              "    </tr>\n",
              "    <tr>\n",
              "      <th>310</th>\n",
              "      <td>Woodbridge</td>\n",
              "      <td>New Jersey</td>\n",
              "      <td>newjersey</td>\n",
              "      <td>woodbridge</td>\n",
              "    </tr>\n",
              "    <tr>\n",
              "      <th>311</th>\n",
              "      <td>San Angelo</td>\n",
              "      <td>Texas</td>\n",
              "      <td>texas</td>\n",
              "      <td>sanangelo</td>\n",
              "    </tr>\n",
              "    <tr>\n",
              "      <th>312</th>\n",
              "      <td>Kenosha</td>\n",
              "      <td>Wisconsin</td>\n",
              "      <td>wisconsin</td>\n",
              "      <td>kenosha</td>\n",
              "    </tr>\n",
              "    <tr>\n",
              "      <th>313</th>\n",
              "      <td>Vacaville</td>\n",
              "      <td>California</td>\n",
              "      <td>california</td>\n",
              "      <td>vacaville</td>\n",
              "    </tr>\n",
              "  </tbody>\n",
              "</table>\n",
              "<p>314 rows × 4 columns</p>\n",
              "</div>"
            ],
            "text/plain": [
              "            city       state     state_s      city_s\n",
              "0       New York    New York     newyork     newyork\n",
              "1    Los Angeles  California  california  losangeles\n",
              "2        Chicago    Illinois    illinois     chicago\n",
              "3        Houston       Texas       texas     houston\n",
              "4        Phoenix     Arizona     arizona     phoenix\n",
              "..           ...         ...         ...         ...\n",
              "309       Edison  New Jersey   newjersey      edison\n",
              "310   Woodbridge  New Jersey   newjersey  woodbridge\n",
              "311   San Angelo       Texas       texas   sanangelo\n",
              "312      Kenosha   Wisconsin   wisconsin     kenosha\n",
              "313    Vacaville  California  california   vacaville\n",
              "\n",
              "[314 rows x 4 columns]"
            ]
          },
          "metadata": {
            "tags": []
          },
          "execution_count": 30
        }
      ]
    },
    {
      "cell_type": "code",
      "metadata": {
        "id": "linMTV_AunAz",
        "colab_type": "code",
        "colab": {}
      },
      "source": [
        "df_loc = pd.DataFrame(df['Location'].str.replace(' ','').str.replace(',','').str.lower())"
      ],
      "execution_count": 0,
      "outputs": []
    },
    {
      "cell_type": "code",
      "metadata": {
        "id": "1qCpdYRUunA3",
        "colab_type": "code",
        "colab": {}
      },
      "source": [
        "df['State'] = None\n",
        "df['City'] = None"
      ],
      "execution_count": 0,
      "outputs": []
    },
    {
      "cell_type": "code",
      "metadata": {
        "id": "UL3s8AXiunA5",
        "colab_type": "code",
        "colab": {}
      },
      "source": [
        "for i in range(len(df_loc)):\n",
        "    for j in range(len(city_state)):\n",
        "        if city_state['city_s'][j] in df_loc['Location'][i]:\n",
        "            df['City'][i] = city_state['city'][j]\n",
        "            df['State'][i] = city_state['state'][j]\n",
        "            break\n",
        "            \n",
        "        elif city_state['state_s'][j] in df_loc['Location'][i]:\n",
        "            df['State'][i] = city_state['state'][j]\n",
        "            break\n"
      ],
      "execution_count": 0,
      "outputs": []
    },
    {
      "cell_type": "code",
      "metadata": {
        "id": "rOjAA5XDunA7",
        "colab_type": "code",
        "outputId": "e87cd4f6-8578-44d7-8d2e-79bf8816db2f",
        "colab": {
          "base_uri": "https://localhost:8080/",
          "height": 161
        }
      },
      "source": [
        "df.columns"
      ],
      "execution_count": 0,
      "outputs": [
        {
          "output_type": "execute_result",
          "data": {
            "text/plain": [
              "Index(['index', '', 'Date Captured', 'Education', 'Experience',\n",
              "       'Industry Knowledge', 'Interpersonal Skills', 'Job Title', 'Languages',\n",
              "       'Location', 'Other Skills', 'Profile Summary', 'ProfileID',\n",
              "       'Skills & Endorsements', 'Tools & Technologies', '_id',\n",
              "       'endorsement cnt', 'tool cnt', 'personal cnt', 'etc cnt',\n",
              "       'knowledge cnt', 'Years', 'School', 'Degree', 'State', 'City', 'Major',\n",
              "       'ID'],\n",
              "      dtype='object')"
            ]
          },
          "metadata": {
            "tags": []
          },
          "execution_count": 36
        }
      ]
    },
    {
      "cell_type": "code",
      "metadata": {
        "id": "_LKVjR26wfq8",
        "colab_type": "code",
        "colab": {}
      },
      "source": [
        "df_sk = df[['ID','Years','Skills & Endorsements','Tools & Technologies','Other Skills','Industry Knowledge','Interpersonal Skills']]\n"
      ],
      "execution_count": 0,
      "outputs": []
    },
    {
      "cell_type": "code",
      "metadata": {
        "id": "dsA84Ou1y-P8",
        "colab_type": "code",
        "outputId": "f28c1381-e328-49b2-e766-859d5f618ce7",
        "colab": {
          "base_uri": "https://localhost:8080/",
          "height": 538
        }
      },
      "source": [
        "df_sk"
      ],
      "execution_count": 0,
      "outputs": [
        {
          "output_type": "execute_result",
          "data": {
            "text/html": [
              "<div>\n",
              "<style scoped>\n",
              "    .dataframe tbody tr th:only-of-type {\n",
              "        vertical-align: middle;\n",
              "    }\n",
              "\n",
              "    .dataframe tbody tr th {\n",
              "        vertical-align: top;\n",
              "    }\n",
              "\n",
              "    .dataframe thead th {\n",
              "        text-align: right;\n",
              "    }\n",
              "</style>\n",
              "<table border=\"1\" class=\"dataframe\">\n",
              "  <thead>\n",
              "    <tr style=\"text-align: right;\">\n",
              "      <th></th>\n",
              "      <th>ID</th>\n",
              "      <th>Years</th>\n",
              "      <th>Skills &amp; Endorsements</th>\n",
              "      <th>Tools &amp; Technologies</th>\n",
              "      <th>Other Skills</th>\n",
              "      <th>Industry Knowledge</th>\n",
              "      <th>Interpersonal Skills</th>\n",
              "    </tr>\n",
              "  </thead>\n",
              "  <tbody>\n",
              "    <tr>\n",
              "      <th>0</th>\n",
              "      <td>0</td>\n",
              "      <td>4</td>\n",
              "      <td>[Data Analysis, SQL, Tableau]</td>\n",
              "      <td>[Google Analytics, Python, Google Adwords, Goo...</td>\n",
              "      <td>[Inbound Marketing, DoubleClick, Ad Networks, ...</td>\n",
              "      <td>[SEO, Business Development, Online Marketing, ...</td>\n",
              "      <td>[Management, Customer Service]</td>\n",
              "    </tr>\n",
              "    <tr>\n",
              "      <th>1</th>\n",
              "      <td>1</td>\n",
              "      <td>3</td>\n",
              "      <td>[market research, analyzing, recruiting]</td>\n",
              "      <td>[]</td>\n",
              "      <td>[리서치, 프로젝트 관리, MS 오피스, 고객서비스, 팀워크, 문제관리]</td>\n",
              "      <td>[customer relation management]</td>\n",
              "      <td>[Problem Solving, talent management]</td>\n",
              "    </tr>\n",
              "    <tr>\n",
              "      <th>2</th>\n",
              "      <td>2</td>\n",
              "      <td>9</td>\n",
              "      <td>[Online Advertising, Digital Marketing, Digita...</td>\n",
              "      <td>[]</td>\n",
              "      <td>[Marketing Research, Strategic Insights, Consu...</td>\n",
              "      <td>[Project Management, Competitive Analysis]</td>\n",
              "      <td>[]</td>\n",
              "    </tr>\n",
              "    <tr>\n",
              "      <th>3</th>\n",
              "      <td>3</td>\n",
              "      <td>8</td>\n",
              "      <td>[Microsoft Office, Public Speaking, Research]</td>\n",
              "      <td>[Microsoft Excel, Microsoft Word, Microsoft Po...</td>\n",
              "      <td>[]</td>\n",
              "      <td>[Data Analysis, Event Planning, Social Media]</td>\n",
              "      <td>[Leadership, Customer Service, Management]</td>\n",
              "    </tr>\n",
              "    <tr>\n",
              "      <th>4</th>\n",
              "      <td>4</td>\n",
              "      <td>3</td>\n",
              "      <td>[Project Management, Strategic Planning, Socia...</td>\n",
              "      <td>[Microsoft Office, YouTube, Java, HTML]</td>\n",
              "      <td>[HootSuite]</td>\n",
              "      <td>[Digital Marketing, Public Relations, Social M...</td>\n",
              "      <td>[Leadership, Communication, Public Speaking]</td>\n",
              "    </tr>\n",
              "    <tr>\n",
              "      <th>...</th>\n",
              "      <td>...</td>\n",
              "      <td>...</td>\n",
              "      <td>...</td>\n",
              "      <td>...</td>\n",
              "      <td>...</td>\n",
              "      <td>...</td>\n",
              "      <td>...</td>\n",
              "    </tr>\n",
              "    <tr>\n",
              "      <th>1885</th>\n",
              "      <td>1885</td>\n",
              "      <td>0</td>\n",
              "      <td>[, , ]</td>\n",
              "      <td>[]</td>\n",
              "      <td>[]</td>\n",
              "      <td>[]</td>\n",
              "      <td>[]</td>\n",
              "    </tr>\n",
              "    <tr>\n",
              "      <th>1886</th>\n",
              "      <td>1886</td>\n",
              "      <td>0</td>\n",
              "      <td>[, , ]</td>\n",
              "      <td>[]</td>\n",
              "      <td>[]</td>\n",
              "      <td>[]</td>\n",
              "      <td>[]</td>\n",
              "    </tr>\n",
              "    <tr>\n",
              "      <th>1887</th>\n",
              "      <td>1887</td>\n",
              "      <td>6</td>\n",
              "      <td>[, , ]</td>\n",
              "      <td>[]</td>\n",
              "      <td>[]</td>\n",
              "      <td>[]</td>\n",
              "      <td>[]</td>\n",
              "    </tr>\n",
              "    <tr>\n",
              "      <th>1888</th>\n",
              "      <td>1888</td>\n",
              "      <td>0</td>\n",
              "      <td>[, , ]</td>\n",
              "      <td>[]</td>\n",
              "      <td>[]</td>\n",
              "      <td>[]</td>\n",
              "      <td>[]</td>\n",
              "    </tr>\n",
              "    <tr>\n",
              "      <th>1889</th>\n",
              "      <td>1889</td>\n",
              "      <td>0</td>\n",
              "      <td>[, , ]</td>\n",
              "      <td>[]</td>\n",
              "      <td>[]</td>\n",
              "      <td>[]</td>\n",
              "      <td>[]</td>\n",
              "    </tr>\n",
              "  </tbody>\n",
              "</table>\n",
              "<p>1890 rows × 7 columns</p>\n",
              "</div>"
            ],
            "text/plain": [
              "        ID  ...                          Interpersonal Skills\n",
              "0        0  ...                [Management, Customer Service]\n",
              "1        1  ...          [Problem Solving, talent management]\n",
              "2        2  ...                                            []\n",
              "3        3  ...    [Leadership, Customer Service, Management]\n",
              "4        4  ...  [Leadership, Communication, Public Speaking]\n",
              "...    ...  ...                                           ...\n",
              "1885  1885  ...                                            []\n",
              "1886  1886  ...                                            []\n",
              "1887  1887  ...                                            []\n",
              "1888  1888  ...                                            []\n",
              "1889  1889  ...                                            []\n",
              "\n",
              "[1890 rows x 7 columns]"
            ]
          },
          "metadata": {
            "tags": []
          },
          "execution_count": 39
        }
      ]
    }
  ]
}