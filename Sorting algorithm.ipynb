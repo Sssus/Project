{
 "cells": [
  {
   "cell_type": "code",
   "execution_count": 1,
   "metadata": {},
   "outputs": [],
   "source": [
    "import time\n",
    "import random\n",
    "import numpy as np\n",
    "import sys"
   ]
  },
  {
   "cell_type": "markdown",
   "metadata": {},
   "source": [
    "## Sorting Algorithm\n",
    "- 1. Selection Sort\n",
    "- 2. Bubble Sort\n",
    "- 3. Quick Sort\n",
    "- 4. Insertion Sort\n",
    "- 4. Merge Sort"
   ]
  },
  {
   "cell_type": "markdown",
   "metadata": {},
   "source": [
    "## 1. Selection Sort"
   ]
  },
  {
   "cell_type": "code",
   "execution_count": 2,
   "metadata": {},
   "outputs": [],
   "source": [
    "def swap(x, i, j):\n",
    "    x[i], x[j] = x[j], x[i]\n",
    "\n",
    "def selectionSort(x):\n",
    "    for size in reversed(range(len(x))):\n",
    "        max_i = 0\n",
    "        for i in range(1, 1+size):\n",
    "            if x[i] > x[max_i]:\n",
    "                max_i = i\n",
    "        swap(x, max_i, size)"
   ]
  },
  {
   "cell_type": "code",
   "execution_count": 6,
   "metadata": {},
   "outputs": [
    {
     "name": "stdout",
     "output_type": "stream",
     "text": [
      "104 µs ± 6.09 µs per loop (mean ± std. dev. of 7 runs, 10000 loops each)\n",
      "[1, 2, 2, 2, 3, 3, 3, 4, 4, 6, 6, 7, 9, 11]\n"
     ]
    }
   ],
   "source": [
    "x = [1,7,6,3,2,4,2,3,4,6,9,11,3,2]\n",
    "%timeit selectionSort(x)\n",
    "print(x)"
   ]
  },
  {
   "cell_type": "code",
   "execution_count": null,
   "metadata": {},
   "outputs": [],
   "source": []
  }
 ],
 "metadata": {
  "kernelspec": {
   "display_name": "Python 3",
   "language": "python",
   "name": "python3"
  },
  "language_info": {
   "codemirror_mode": {
    "name": "ipython",
    "version": 3
   },
   "file_extension": ".py",
   "mimetype": "text/x-python",
   "name": "python",
   "nbconvert_exporter": "python",
   "pygments_lexer": "ipython3",
   "version": "3.7.3"
  }
 },
 "nbformat": 4,
 "nbformat_minor": 2
}
