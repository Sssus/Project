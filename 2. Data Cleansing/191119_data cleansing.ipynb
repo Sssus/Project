{
 "cells": [
  {
   "cell_type": "code",
   "execution_count": 1,
   "metadata": {},
   "outputs": [],
   "source": [
    "import pymongo\n",
    "import pandas as pd\n",
    "import numpy as np\n",
    "import json\n",
    "import warnings\n",
    "from pandas.io.json import json_normalize\n",
    "warnings.filterwarnings('ignore')"
   ]
  },
  {
   "cell_type": "markdown",
   "metadata": {},
   "source": [
    "# 데이터 불러오기"
   ]
  },
  {
   "cell_type": "code",
   "execution_count": 9,
   "metadata": {},
   "outputs": [],
   "source": [
    "df = pd.read_json('dataengineer.json',lines=True)"
   ]
  },
  {
   "cell_type": "code",
   "execution_count": 10,
   "metadata": {},
   "outputs": [
    {
     "data": {
      "text/html": [
       "<div>\n",
       "<style scoped>\n",
       "    .dataframe tbody tr th:only-of-type {\n",
       "        vertical-align: middle;\n",
       "    }\n",
       "\n",
       "    .dataframe tbody tr th {\n",
       "        vertical-align: top;\n",
       "    }\n",
       "\n",
       "    .dataframe thead th {\n",
       "        text-align: right;\n",
       "    }\n",
       "</style>\n",
       "<table border=\"1\" class=\"dataframe\">\n",
       "  <thead>\n",
       "    <tr style=\"text-align: right;\">\n",
       "      <th></th>\n",
       "      <th>Date Captured</th>\n",
       "      <th>Education</th>\n",
       "      <th>Experience</th>\n",
       "      <th>Industry Knowledge</th>\n",
       "      <th>Interpersonal Skills</th>\n",
       "      <th>Job Title</th>\n",
       "      <th>Languages</th>\n",
       "      <th>Location</th>\n",
       "      <th>Other Skills</th>\n",
       "      <th>Profile Summary</th>\n",
       "      <th>ProfileID</th>\n",
       "      <th>Skills &amp; Endorsements</th>\n",
       "      <th>Tools &amp; Technologies</th>\n",
       "      <th>_id</th>\n",
       "    </tr>\n",
       "  </thead>\n",
       "  <tbody>\n",
       "    <tr>\n",
       "      <th>0</th>\n",
       "      <td>2019-11-12</td>\n",
       "      <td>[{'School': 'University of Washington', 'Degre...</td>\n",
       "      <td>[{'Job Title': 'Senior Data Engineer', 'Compan...</td>\n",
       "      <td>[{'Skills': 'Research'}, {'Skills': 'Data Anal...</td>\n",
       "      <td>NaN</td>\n",
       "      <td>Senior Data Engineer at Change Healthcare</td>\n",
       "      <td>NaN</td>\n",
       "      <td>San Francisco Bay Area</td>\n",
       "      <td>[{'Skills': 'Apache Pig'}, {'Skills': 'Apache ...</td>\n",
       "      <td>As a software engineer at an research and deve...</td>\n",
       "      <td>jilliankim</td>\n",
       "      <td>[{'Skills': 'Apache Spark'}, {'Skills': 'Apach...</td>\n",
       "      <td>[{'Skills': 'Java'}, {'Skills': 'HBase'}, {'Sk...</td>\n",
       "      <td>{'$oid': '5dca1376f68f858820733c99'}</td>\n",
       "    </tr>\n",
       "    <tr>\n",
       "      <th>1</th>\n",
       "      <td>2019-11-12</td>\n",
       "      <td>[{'School': 'Korea University', 'Degree': 'Doc...</td>\n",
       "      <td>[{'Job Title': 'Director of Research', 'Compan...</td>\n",
       "      <td>[{'Skills': 'Algorithms'}, {'Skills': 'Big Dat...</td>\n",
       "      <td>NaN</td>\n",
       "      <td>Sr. Principal Data Engineer at Coupang Global ...</td>\n",
       "      <td>NaN</td>\n",
       "      <td>San Francisco Bay Area</td>\n",
       "      <td>[{'Skills': 'Data Processing'}, {'Skills': 'La...</td>\n",
       "      <td>Specialties: * Query evaluation techniques in ...</td>\n",
       "      <td>hyunsikchoi</td>\n",
       "      <td>[{'Skills': 'Hadoop'}, {'Skills': 'Distributed...</td>\n",
       "      <td>[{'Skills': 'Open Source'}, {'Skills': 'Java'}...</td>\n",
       "      <td>{'$oid': '5dca1380f68f858820733c9b'}</td>\n",
       "    </tr>\n",
       "    <tr>\n",
       "      <th>2</th>\n",
       "      <td>2019-11-12</td>\n",
       "      <td>[{'School': 'University of Virginia', 'Degree'...</td>\n",
       "      <td>[{'Job Title': 'Data Engineer', 'Company': 'Pl...</td>\n",
       "      <td>NaN</td>\n",
       "      <td>NaN</td>\n",
       "      <td>Data Engineer at PlayStation</td>\n",
       "      <td>NaN</td>\n",
       "      <td>Los Angeles, California</td>\n",
       "      <td>NaN</td>\n",
       "      <td></td>\n",
       "      <td>rui-deng-b7b37714a</td>\n",
       "      <td>[{'Skills': 'Python (Programming Language)'}, ...</td>\n",
       "      <td>NaN</td>\n",
       "      <td>{'$oid': '5dca13b2f68f858820733c9d'}</td>\n",
       "    </tr>\n",
       "    <tr>\n",
       "      <th>3</th>\n",
       "      <td>2019-11-12</td>\n",
       "      <td>[{'School': 'University of California, Berkele...</td>\n",
       "      <td>[{'Job Title': 'Senior Site Reliability Engine...</td>\n",
       "      <td>[{'Skills': 'Web Applications'}, {'Skills': 'W...</td>\n",
       "      <td>NaN</td>\n",
       "      <td>Architect / Data engineer</td>\n",
       "      <td>NaN</td>\n",
       "      <td>Berkeley, California</td>\n",
       "      <td>[{'Skills': 'Memcached'}, {'Skills': 'Google A...</td>\n",
       "      <td>Energetic and motivating, those are the two wo...</td>\n",
       "      <td>seungjoonlee1984</td>\n",
       "      <td>[{'Skills': 'JavaScript'}, {'Skills': 'Python'...</td>\n",
       "      <td>[{'Skills': 'Java'}, {'Skills': 'JSON'}, {'Ski...</td>\n",
       "      <td>{'$oid': '5dca13bff68f858820733c9f'}</td>\n",
       "    </tr>\n",
       "    <tr>\n",
       "      <th>4</th>\n",
       "      <td>2019-11-12</td>\n",
       "      <td>[{'School': 'Flatiron School', 'Degree': ' Dat...</td>\n",
       "      <td>[{'Job Title': 'Data Scientist Student', 'Comp...</td>\n",
       "      <td>[{'Skills': 'Web Development'}, {'Skills': 'An...</td>\n",
       "      <td>[{'Skills': 'Written Communication'}]</td>\n",
       "      <td>Data Scientist and ML Engineer</td>\n",
       "      <td>NaN</td>\n",
       "      <td>Greater Seattle Area</td>\n",
       "      <td>[{'Skills': '모바일앱'}, {'Skills': 'C++ Language'...</td>\n",
       "      <td>Machine learning engineer and data scientist w...</td>\n",
       "      <td>taeho-jeon-78418870</td>\n",
       "      <td>[{'Skills': 'iOS development'}, {'Skills': 'Ja...</td>\n",
       "      <td>[{'Skills': 'swift'}, {'Skills': 'Objective-C'...</td>\n",
       "      <td>{'$oid': '5dca13caf68f858820733ca1'}</td>\n",
       "    </tr>\n",
       "  </tbody>\n",
       "</table>\n",
       "</div>"
      ],
      "text/plain": [
       "  Date Captured                                          Education  \\\n",
       "0    2019-11-12  [{'School': 'University of Washington', 'Degre...   \n",
       "1    2019-11-12  [{'School': 'Korea University', 'Degree': 'Doc...   \n",
       "2    2019-11-12  [{'School': 'University of Virginia', 'Degree'...   \n",
       "3    2019-11-12  [{'School': 'University of California, Berkele...   \n",
       "4    2019-11-12  [{'School': 'Flatiron School', 'Degree': ' Dat...   \n",
       "\n",
       "                                          Experience  \\\n",
       "0  [{'Job Title': 'Senior Data Engineer', 'Compan...   \n",
       "1  [{'Job Title': 'Director of Research', 'Compan...   \n",
       "2  [{'Job Title': 'Data Engineer', 'Company': 'Pl...   \n",
       "3  [{'Job Title': 'Senior Site Reliability Engine...   \n",
       "4  [{'Job Title': 'Data Scientist Student', 'Comp...   \n",
       "\n",
       "                                  Industry Knowledge  \\\n",
       "0  [{'Skills': 'Research'}, {'Skills': 'Data Anal...   \n",
       "1  [{'Skills': 'Algorithms'}, {'Skills': 'Big Dat...   \n",
       "2                                                NaN   \n",
       "3  [{'Skills': 'Web Applications'}, {'Skills': 'W...   \n",
       "4  [{'Skills': 'Web Development'}, {'Skills': 'An...   \n",
       "\n",
       "                    Interpersonal Skills  \\\n",
       "0                                    NaN   \n",
       "1                                    NaN   \n",
       "2                                    NaN   \n",
       "3                                    NaN   \n",
       "4  [{'Skills': 'Written Communication'}]   \n",
       "\n",
       "                                           Job Title Languages  \\\n",
       "0          Senior Data Engineer at Change Healthcare       NaN   \n",
       "1  Sr. Principal Data Engineer at Coupang Global ...       NaN   \n",
       "2                       Data Engineer at PlayStation       NaN   \n",
       "3                          Architect / Data engineer       NaN   \n",
       "4                     Data Scientist and ML Engineer       NaN   \n",
       "\n",
       "                  Location                                       Other Skills  \\\n",
       "0   San Francisco Bay Area  [{'Skills': 'Apache Pig'}, {'Skills': 'Apache ...   \n",
       "1   San Francisco Bay Area  [{'Skills': 'Data Processing'}, {'Skills': 'La...   \n",
       "2  Los Angeles, California                                                NaN   \n",
       "3     Berkeley, California  [{'Skills': 'Memcached'}, {'Skills': 'Google A...   \n",
       "4     Greater Seattle Area  [{'Skills': '모바일앱'}, {'Skills': 'C++ Language'...   \n",
       "\n",
       "                                     Profile Summary            ProfileID  \\\n",
       "0  As a software engineer at an research and deve...           jilliankim   \n",
       "1  Specialties: * Query evaluation techniques in ...          hyunsikchoi   \n",
       "2                                                      rui-deng-b7b37714a   \n",
       "3  Energetic and motivating, those are the two wo...     seungjoonlee1984   \n",
       "4  Machine learning engineer and data scientist w...  taeho-jeon-78418870   \n",
       "\n",
       "                               Skills & Endorsements  \\\n",
       "0  [{'Skills': 'Apache Spark'}, {'Skills': 'Apach...   \n",
       "1  [{'Skills': 'Hadoop'}, {'Skills': 'Distributed...   \n",
       "2  [{'Skills': 'Python (Programming Language)'}, ...   \n",
       "3  [{'Skills': 'JavaScript'}, {'Skills': 'Python'...   \n",
       "4  [{'Skills': 'iOS development'}, {'Skills': 'Ja...   \n",
       "\n",
       "                                Tools & Technologies  \\\n",
       "0  [{'Skills': 'Java'}, {'Skills': 'HBase'}, {'Sk...   \n",
       "1  [{'Skills': 'Open Source'}, {'Skills': 'Java'}...   \n",
       "2                                                NaN   \n",
       "3  [{'Skills': 'Java'}, {'Skills': 'JSON'}, {'Ski...   \n",
       "4  [{'Skills': 'swift'}, {'Skills': 'Objective-C'...   \n",
       "\n",
       "                                    _id  \n",
       "0  {'$oid': '5dca1376f68f858820733c99'}  \n",
       "1  {'$oid': '5dca1380f68f858820733c9b'}  \n",
       "2  {'$oid': '5dca13b2f68f858820733c9d'}  \n",
       "3  {'$oid': '5dca13bff68f858820733c9f'}  \n",
       "4  {'$oid': '5dca13caf68f858820733ca1'}  "
      ]
     },
     "execution_count": 10,
     "metadata": {},
     "output_type": "execute_result"
    }
   ],
   "source": [
    "df.head()"
   ]
  },
  {
   "cell_type": "code",
   "execution_count": 11,
   "metadata": {},
   "outputs": [
    {
     "data": {
      "text/plain": [
       "[{'School': 'University of Washington',\n",
       "  'Degree': 'Biochemistry Applied Mathematics/Chemistry minor ',\n",
       "  'Date Attended': '2008 ? 2013'},\n",
       " {'School': 'University of Washington', 'Degree': '  ', 'Date Attended': ''}]"
      ]
     },
     "execution_count": 11,
     "metadata": {},
     "output_type": "execute_result"
    }
   ],
   "source": [
    "df['Education'][0]"
   ]
  },
  {
   "cell_type": "markdown",
   "metadata": {},
   "source": [
    "# 불필요한 열 삭제 "
   ]
  },
  {
   "cell_type": "code",
   "execution_count": 12,
   "metadata": {},
   "outputs": [
    {
     "name": "stdout",
     "output_type": "stream",
     "text": [
      "Index(['Date Captured', 'Education', 'Experience', 'Industry Knowledge',\n",
      "       'Interpersonal Skills', 'Job Title', 'Languages', 'Location',\n",
      "       'Other Skills', 'Profile Summary', 'ProfileID', 'Skills & Endorsements',\n",
      "       'Tools & Technologies', '_id'],\n",
      "      dtype='object')\n"
     ]
    },
    {
     "data": {
      "text/plain": [
       "Index(['Education', 'Experience', 'Industry Knowledge', 'Interpersonal Skills',\n",
       "       'Job Title', 'Location', 'Other Skills', 'ProfileID',\n",
       "       'Skills & Endorsements', 'Tools & Technologies'],\n",
       "      dtype='object')"
      ]
     },
     "execution_count": 12,
     "metadata": {},
     "output_type": "execute_result"
    }
   ],
   "source": [
    "null_list = ['_id', 'Profile Summary', 'Date Captured', 'Languages']\n",
    "\n",
    "print(data.columns)\n",
    "df.drop(null_list, axis = 1, inplace=True)\n",
    "df.columns"
   ]
  },
  {
   "cell_type": "markdown",
   "metadata": {},
   "source": [
    "# 중복 제거"
   ]
  },
  {
   "cell_type": "code",
   "execution_count": 13,
   "metadata": {},
   "outputs": [
    {
     "name": "stdout",
     "output_type": "stream",
     "text": [
      "(1008, 10)\n",
      "(799, 10)\n"
     ]
    }
   ],
   "source": [
    "print(df.shape)\n",
    "df = df.drop_duplicates('ProfileID')\n",
    "print(df.shape)"
   ]
  },
  {
   "cell_type": "markdown",
   "metadata": {},
   "source": [
    "#  ProfileID -> ID열 생성"
   ]
  },
  {
   "cell_type": "code",
   "execution_count": null,
   "metadata": {},
   "outputs": [],
   "source": []
  }
 ],
 "metadata": {
  "kernelspec": {
   "display_name": "Python 3",
   "language": "python",
   "name": "python3"
  },
  "language_info": {
   "codemirror_mode": {
    "name": "ipython",
    "version": 3
   },
   "file_extension": ".py",
   "mimetype": "text/x-python",
   "name": "python",
   "nbconvert_exporter": "python",
   "pygments_lexer": "ipython3",
   "version": "3.6.5"
  }
 },
 "nbformat": 4,
 "nbformat_minor": 2
}
